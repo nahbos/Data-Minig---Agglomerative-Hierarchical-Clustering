{
 "cells": [
  {
   "cell_type": "markdown",
   "metadata": {},
   "source": [
    "#### Copyright (C) 2020 Sobhan Moradiyan Daghigh - All Rights Reserved\n",
    "### Implementation of a Hierarchical Agglomerative Clustering on a professors' fields dataset\n",
    "### Using spaCy model which is based on nlp and is very commen in text semantic similarities\n",
    "##### 12/5/2020"
   ]
  },
  {
   "cell_type": "markdown",
   "metadata": {},
   "source": [
    "### Hii. "
   ]
  },
  {
   "cell_type": "code",
   "execution_count": 1,
   "metadata": {},
   "outputs": [],
   "source": [
    "# !pip install spacy"
   ]
  },
  {
   "cell_type": "code",
   "execution_count": 2,
   "metadata": {},
   "outputs": [],
   "source": [
    "# !python -m spacy download en_core_web_md"
   ]
  },
  {
   "cell_type": "code",
   "execution_count": 3,
   "metadata": {},
   "outputs": [],
   "source": [
    "# !python -m spacy link en_core_web_md en"
   ]
  },
  {
   "cell_type": "code",
   "execution_count": 137,
   "metadata": {},
   "outputs": [],
   "source": [
    "import pandas as pd\n",
    "import numpy as np\n",
    "import pickle\n",
    "import scipy.cluster.hierarchy as shc\n",
    "import matplotlib.pyplot as plt\n",
    "from sklearn.cluster import AgglomerativeClustering\n",
    "import spacy\n",
    "import os.path\n",
    "\n",
    "\n",
    "# I'm gonna use medium size of this model\n",
    "nlp = spacy.load('en_core_web_md')"
   ]
  },
  {
   "cell_type": "markdown",
   "metadata": {},
   "source": [
    "### Reading dataset"
   ]
  },
  {
   "cell_type": "code",
   "execution_count": 53,
   "metadata": {},
   "outputs": [
    {
     "data": {
      "text/html": [
       "<div>\n",
       "<style scoped>\n",
       "    .dataframe tbody tr th:only-of-type {\n",
       "        vertical-align: middle;\n",
       "    }\n",
       "\n",
       "    .dataframe tbody tr th {\n",
       "        vertical-align: top;\n",
       "    }\n",
       "\n",
       "    .dataframe thead th {\n",
       "        text-align: right;\n",
       "    }\n",
       "</style>\n",
       "<table border=\"1\" class=\"dataframe\">\n",
       "  <thead>\n",
       "    <tr style=\"text-align: right;\">\n",
       "      <th></th>\n",
       "      <th>شناسه</th>\n",
       "      <th>نام</th>\n",
       "      <th>نام خانوادگی</th>\n",
       "      <th>Name</th>\n",
       "      <th>Family</th>\n",
       "      <th>جنسیت</th>\n",
       "      <th>دانشکده</th>\n",
       "      <th>گروه آموزشی</th>\n",
       "      <th>مقطع تحصیلی</th>\n",
       "      <th>رشته تحصیلی</th>\n",
       "      <th>...</th>\n",
       "      <th>Field 1</th>\n",
       "      <th>Field 2</th>\n",
       "      <th>Field 3</th>\n",
       "      <th>Field 4</th>\n",
       "      <th>Field 5</th>\n",
       "      <th>Field 6</th>\n",
       "      <th>Field 7</th>\n",
       "      <th>Field 8</th>\n",
       "      <th>Field 9</th>\n",
       "      <th>Field 10</th>\n",
       "    </tr>\n",
       "  </thead>\n",
       "  <tbody>\n",
       "    <tr>\n",
       "      <th>0</th>\n",
       "      <td>21</td>\n",
       "      <td>جواد</td>\n",
       "      <td>ابوالفضلی اصفهانی</td>\n",
       "      <td>Javad</td>\n",
       "      <td>Abolfazli Esfahani</td>\n",
       "      <td>مرد</td>\n",
       "      <td>مهندسی</td>\n",
       "      <td>مهندسی مکانیک</td>\n",
       "      <td>دکترای تخصصی (PhD)</td>\n",
       "      <td>مهندسی مکانیک (حرارت وسیالات )</td>\n",
       "      <td>...</td>\n",
       "      <td>Entropy generation</td>\n",
       "      <td>Heat transfer</td>\n",
       "      <td>Reynolds number</td>\n",
       "      <td>Lattice Boltzmann method</td>\n",
       "      <td>Natural convection</td>\n",
       "      <td>Nanofluids</td>\n",
       "      <td>Finite volume method</td>\n",
       "      <td>Turbulent flow</td>\n",
       "      <td>Heat and mass transfer</td>\n",
       "      <td>Micro-combustor</td>\n",
       "    </tr>\n",
       "    <tr>\n",
       "      <th>1</th>\n",
       "      <td>363</td>\n",
       "      <td>محمد</td>\n",
       "      <td>پسندیده فرد</td>\n",
       "      <td>Mohammad</td>\n",
       "      <td>Passandideh-Fard</td>\n",
       "      <td>مرد</td>\n",
       "      <td>مهندسی</td>\n",
       "      <td>مهندسی مکانیک</td>\n",
       "      <td>دکترای تخصصی (PhD)</td>\n",
       "      <td>مکانیک</td>\n",
       "      <td>...</td>\n",
       "      <td>Nanofluids</td>\n",
       "      <td>Photovoltaic thermal systems</td>\n",
       "      <td>Free-surface flow</td>\n",
       "      <td>Solidification</td>\n",
       "      <td>Navier Stokes equations</td>\n",
       "      <td>Photovoltaic thermals</td>\n",
       "      <td>Heat transfer</td>\n",
       "      <td>Phase change materials</td>\n",
       "      <td>Vof Method</td>\n",
       "      <td>Exergy</td>\n",
       "    </tr>\n",
       "    <tr>\n",
       "      <th>2</th>\n",
       "      <td>111</td>\n",
       "      <td>محمدهادی</td>\n",
       "      <td>مؤید</td>\n",
       "      <td>Mohammad Hadi</td>\n",
       "      <td>Moayed</td>\n",
       "      <td>مرد</td>\n",
       "      <td>مهندسی</td>\n",
       "      <td>مهندسی متالورژی و مواد</td>\n",
       "      <td>دکترای تخصصی (PhD)</td>\n",
       "      <td>مواد</td>\n",
       "      <td>...</td>\n",
       "      <td>Stainless steel</td>\n",
       "      <td>Pitting</td>\n",
       "      <td>Corrosion</td>\n",
       "      <td>A. Stainless steel</td>\n",
       "      <td>C. Pitting corrosion</td>\n",
       "      <td>Pitting corrosion</td>\n",
       "      <td>B. Polarisation</td>\n",
       "      <td>Polarization</td>\n",
       "      <td>Critical pitting temperatures</td>\n",
       "      <td>Polarisation</td>\n",
       "    </tr>\n",
       "    <tr>\n",
       "      <th>3</th>\n",
       "      <td>1392</td>\n",
       "      <td>سیدعبدالکریم</td>\n",
       "      <td>سجادی</td>\n",
       "      <td>Seyed Abdolkarim</td>\n",
       "      <td>Sajjadi</td>\n",
       "      <td>مرد</td>\n",
       "      <td>مهندسی</td>\n",
       "      <td>مهندسی متالورژی و مواد</td>\n",
       "      <td>دکترای تخصصی (PhD)</td>\n",
       "      <td>مهندسی مواد</td>\n",
       "      <td>...</td>\n",
       "      <td>Nanocomposite</td>\n",
       "      <td>Microstructure</td>\n",
       "      <td>Superalloys</td>\n",
       "      <td>Mechanical alloying</td>\n",
       "      <td>Spark plasma sintering</td>\n",
       "      <td>Mechanical properties</td>\n",
       "      <td>Hardness</td>\n",
       "      <td>Aluminum</td>\n",
       "      <td>Sintering</td>\n",
       "      <td>Stir-Casting</td>\n",
       "    </tr>\n",
       "    <tr>\n",
       "      <th>4</th>\n",
       "      <td>665</td>\n",
       "      <td>علی</td>\n",
       "      <td>داودی</td>\n",
       "      <td>Ali</td>\n",
       "      <td>Davoodi</td>\n",
       "      <td>مرد</td>\n",
       "      <td>مهندسی</td>\n",
       "      <td>مهندسی متالورژی و مواد</td>\n",
       "      <td>دکترای تخصصی (PhD)</td>\n",
       "      <td>مهندسی مواد - خوردگی</td>\n",
       "      <td>...</td>\n",
       "      <td>Corrosion</td>\n",
       "      <td>Corrosion resistance</td>\n",
       "      <td>Electrochemical impedance spectroscopy</td>\n",
       "      <td>Electrochemical corrosion</td>\n",
       "      <td>Polarization</td>\n",
       "      <td>Localized corrosion</td>\n",
       "      <td>Afm</td>\n",
       "      <td>Galvanic Corrosion</td>\n",
       "      <td>Eis</td>\n",
       "      <td>Atomic force microscopy</td>\n",
       "    </tr>\n",
       "  </tbody>\n",
       "</table>\n",
       "<p>5 rows × 22 columns</p>\n",
       "</div>"
      ],
      "text/plain": [
       "   شناسه           نام       نام خانوادگی              Name  \\\n",
       "0     21          جواد  ابوالفضلی اصفهانی             Javad   \n",
       "1    363          محمد        پسندیده فرد          Mohammad   \n",
       "2    111      محمدهادی               مؤید     Mohammad Hadi   \n",
       "3   1392  سیدعبدالکریم              سجادی  Seyed Abdolkarim   \n",
       "4    665           علی              داودی               Ali   \n",
       "\n",
       "               Family جنسیت دانشکده             گروه آموزشی  \\\n",
       "0  Abolfazli Esfahani   مرد  مهندسی           مهندسی مکانیک   \n",
       "1    Passandideh-Fard   مرد  مهندسی           مهندسی مکانیک   \n",
       "2              Moayed   مرد  مهندسی  مهندسی متالورژی و مواد   \n",
       "3             Sajjadi   مرد  مهندسی  مهندسی متالورژی و مواد   \n",
       "4             Davoodi   مرد  مهندسی  مهندسی متالورژی و مواد   \n",
       "\n",
       "          مقطع تحصیلی                     رشته تحصیلی  ...  \\\n",
       "0  دکترای تخصصی (PhD)  مهندسی مکانیک (حرارت وسیالات )  ...   \n",
       "1  دکترای تخصصی (PhD)                          مکانیک  ...   \n",
       "2  دکترای تخصصی (PhD)                            مواد  ...   \n",
       "3  دکترای تخصصی (PhD)                     مهندسی مواد  ...   \n",
       "4  دکترای تخصصی (PhD)            مهندسی مواد - خوردگی  ...   \n",
       "\n",
       "              Field 1                       Field 2  \\\n",
       "0  Entropy generation                 Heat transfer   \n",
       "1          Nanofluids  Photovoltaic thermal systems   \n",
       "2     Stainless steel                       Pitting   \n",
       "3       Nanocomposite                Microstructure   \n",
       "4           Corrosion          Corrosion resistance   \n",
       "\n",
       "                                  Field 3                    Field 4  \\\n",
       "0                         Reynolds number   Lattice Boltzmann method   \n",
       "1                       Free-surface flow             Solidification   \n",
       "2                               Corrosion         A. Stainless steel   \n",
       "3                             Superalloys        Mechanical alloying   \n",
       "4  Electrochemical impedance spectroscopy  Electrochemical corrosion   \n",
       "\n",
       "                   Field 5                Field 6               Field 7  \\\n",
       "0       Natural convection             Nanofluids  Finite volume method   \n",
       "1  Navier Stokes equations  Photovoltaic thermals         Heat transfer   \n",
       "2     C. Pitting corrosion      Pitting corrosion       B. Polarisation   \n",
       "3   Spark plasma sintering  Mechanical properties              Hardness   \n",
       "4             Polarization    Localized corrosion                   Afm   \n",
       "\n",
       "                  Field 8                        Field 9  \\\n",
       "0          Turbulent flow         Heat and mass transfer   \n",
       "1  Phase change materials                     Vof Method   \n",
       "2            Polarization  Critical pitting temperatures   \n",
       "3                Aluminum                      Sintering   \n",
       "4      Galvanic Corrosion                            Eis   \n",
       "\n",
       "                  Field 10  \n",
       "0          Micro-combustor  \n",
       "1                   Exergy  \n",
       "2             Polarisation  \n",
       "3             Stir-Casting  \n",
       "4  Atomic force microscopy  \n",
       "\n",
       "[5 rows x 22 columns]"
      ]
     },
     "execution_count": 53,
     "metadata": {},
     "output_type": "execute_result"
    }
   ],
   "source": [
    "main_dataset = pd.read_excel(\"./Eng-Faculty.xlsx\")\n",
    "main_dataset.head()"
   ]
  },
  {
   "cell_type": "code",
   "execution_count": 55,
   "metadata": {},
   "outputs": [
    {
     "data": {
      "text/plain": [
       "شناسه            0\n",
       "نام              0\n",
       "نام خانوادگی     0\n",
       "Name             0\n",
       "Family           0\n",
       "جنسیت            0\n",
       "دانشکده          0\n",
       "گروه آموزشی      0\n",
       "مقطع تحصیلی      0\n",
       "رشته تحصیلی      0\n",
       "رتبه علمی        0\n",
       "نوع هیات علمی    0\n",
       "Field 1          5\n",
       "Field 2          5\n",
       "Field 3          5\n",
       "Field 4          5\n",
       "Field 5          5\n",
       "Field 6          5\n",
       "Field 7          5\n",
       "Field 8          5\n",
       "Field 9          5\n",
       "Field 10         5\n",
       "dtype: int64"
      ]
     },
     "execution_count": 55,
     "metadata": {},
     "output_type": "execute_result"
    }
   ],
   "source": [
    "main_dataset.isna().sum()"
   ]
  },
  {
   "cell_type": "code",
   "execution_count": null,
   "metadata": {},
   "outputs": [],
   "source": []
  },
  {
   "cell_type": "markdown",
   "metadata": {},
   "source": [
    "### Dropping that 5 missing values"
   ]
  },
  {
   "cell_type": "code",
   "execution_count": 56,
   "metadata": {},
   "outputs": [
    {
     "name": "stdout",
     "output_type": "stream",
     "text": [
      "<class 'pandas.core.frame.DataFrame'>\n",
      "Int64Index: 175 entries, 0 to 174\n",
      "Data columns (total 22 columns):\n",
      " #   Column         Non-Null Count  Dtype \n",
      "---  ------         --------------  ----- \n",
      " 0   شناسه          175 non-null    int64 \n",
      " 1   نام            175 non-null    object\n",
      " 2   نام خانوادگی   175 non-null    object\n",
      " 3   Name           175 non-null    object\n",
      " 4   Family         175 non-null    object\n",
      " 5   جنسیت          175 non-null    object\n",
      " 6   دانشکده        175 non-null    object\n",
      " 7   گروه آموزشی    175 non-null    object\n",
      " 8   مقطع تحصیلی    175 non-null    object\n",
      " 9   رشته تحصیلی    175 non-null    object\n",
      " 10  رتبه علمی      175 non-null    object\n",
      " 11  نوع هیات علمی  175 non-null    object\n",
      " 12  Field 1        175 non-null    object\n",
      " 13  Field 2        175 non-null    object\n",
      " 14  Field 3        175 non-null    object\n",
      " 15  Field 4        175 non-null    object\n",
      " 16  Field 5        175 non-null    object\n",
      " 17  Field 6        175 non-null    object\n",
      " 18  Field 7        175 non-null    object\n",
      " 19  Field 8        175 non-null    object\n",
      " 20  Field 9        175 non-null    object\n",
      " 21  Field 10       175 non-null    object\n",
      "dtypes: int64(1), object(21)\n",
      "memory usage: 31.4+ KB\n"
     ]
    }
   ],
   "source": [
    "main_dataset.dropna(inplace=True)\n",
    "main_dataset.info()"
   ]
  },
  {
   "cell_type": "markdown",
   "metadata": {},
   "source": [
    "### As I'll explain more accurate about the spaCy, I need to merge the features for calculating the similarities\n"
   ]
  },
  {
   "cell_type": "code",
   "execution_count": 57,
   "metadata": {},
   "outputs": [],
   "source": [
    "def connect_features(dataset):\n",
    "    dataset['Fields'] = dataset[['Field 1', 'Field 2', 'Field 3', 'Field 4', 'Field 5',\n",
    "                                 'Field 6', 'Field 7', 'Field 8', 'Field 9', 'Field 10']].agg(' - '.join, axis=1)\n",
    "    return dataset"
   ]
  },
  {
   "cell_type": "markdown",
   "metadata": {},
   "source": [
    "### Now I need a single column which contains all featurs "
   ]
  },
  {
   "cell_type": "code",
   "execution_count": 58,
   "metadata": {},
   "outputs": [
    {
     "data": {
      "text/html": [
       "<div>\n",
       "<style scoped>\n",
       "    .dataframe tbody tr th:only-of-type {\n",
       "        vertical-align: middle;\n",
       "    }\n",
       "\n",
       "    .dataframe tbody tr th {\n",
       "        vertical-align: top;\n",
       "    }\n",
       "\n",
       "    .dataframe thead th {\n",
       "        text-align: right;\n",
       "    }\n",
       "</style>\n",
       "<table border=\"1\" class=\"dataframe\">\n",
       "  <thead>\n",
       "    <tr style=\"text-align: right;\">\n",
       "      <th></th>\n",
       "      <th>شناسه</th>\n",
       "      <th>نام</th>\n",
       "      <th>نام خانوادگی</th>\n",
       "      <th>Name</th>\n",
       "      <th>Family</th>\n",
       "      <th>جنسیت</th>\n",
       "      <th>دانشکده</th>\n",
       "      <th>گروه آموزشی</th>\n",
       "      <th>مقطع تحصیلی</th>\n",
       "      <th>رشته تحصیلی</th>\n",
       "      <th>...</th>\n",
       "      <th>Field 2</th>\n",
       "      <th>Field 3</th>\n",
       "      <th>Field 4</th>\n",
       "      <th>Field 5</th>\n",
       "      <th>Field 6</th>\n",
       "      <th>Field 7</th>\n",
       "      <th>Field 8</th>\n",
       "      <th>Field 9</th>\n",
       "      <th>Field 10</th>\n",
       "      <th>Fields</th>\n",
       "    </tr>\n",
       "  </thead>\n",
       "  <tbody>\n",
       "    <tr>\n",
       "      <th>0</th>\n",
       "      <td>21</td>\n",
       "      <td>جواد</td>\n",
       "      <td>ابوالفضلی اصفهانی</td>\n",
       "      <td>Javad</td>\n",
       "      <td>Abolfazli Esfahani</td>\n",
       "      <td>مرد</td>\n",
       "      <td>مهندسی</td>\n",
       "      <td>مهندسی مکانیک</td>\n",
       "      <td>دکترای تخصصی (PhD)</td>\n",
       "      <td>مهندسی مکانیک (حرارت وسیالات )</td>\n",
       "      <td>...</td>\n",
       "      <td>Heat transfer</td>\n",
       "      <td>Reynolds number</td>\n",
       "      <td>Lattice Boltzmann method</td>\n",
       "      <td>Natural convection</td>\n",
       "      <td>Nanofluids</td>\n",
       "      <td>Finite volume method</td>\n",
       "      <td>Turbulent flow</td>\n",
       "      <td>Heat and mass transfer</td>\n",
       "      <td>Micro-combustor</td>\n",
       "      <td>Entropy generation - Heat transfer - Reynolds ...</td>\n",
       "    </tr>\n",
       "    <tr>\n",
       "      <th>1</th>\n",
       "      <td>363</td>\n",
       "      <td>محمد</td>\n",
       "      <td>پسندیده فرد</td>\n",
       "      <td>Mohammad</td>\n",
       "      <td>Passandideh-Fard</td>\n",
       "      <td>مرد</td>\n",
       "      <td>مهندسی</td>\n",
       "      <td>مهندسی مکانیک</td>\n",
       "      <td>دکترای تخصصی (PhD)</td>\n",
       "      <td>مکانیک</td>\n",
       "      <td>...</td>\n",
       "      <td>Photovoltaic thermal systems</td>\n",
       "      <td>Free-surface flow</td>\n",
       "      <td>Solidification</td>\n",
       "      <td>Navier Stokes equations</td>\n",
       "      <td>Photovoltaic thermals</td>\n",
       "      <td>Heat transfer</td>\n",
       "      <td>Phase change materials</td>\n",
       "      <td>Vof Method</td>\n",
       "      <td>Exergy</td>\n",
       "      <td>Nanofluids - Photovoltaic thermal systems - Fr...</td>\n",
       "    </tr>\n",
       "    <tr>\n",
       "      <th>2</th>\n",
       "      <td>111</td>\n",
       "      <td>محمدهادی</td>\n",
       "      <td>مؤید</td>\n",
       "      <td>Mohammad Hadi</td>\n",
       "      <td>Moayed</td>\n",
       "      <td>مرد</td>\n",
       "      <td>مهندسی</td>\n",
       "      <td>مهندسی متالورژی و مواد</td>\n",
       "      <td>دکترای تخصصی (PhD)</td>\n",
       "      <td>مواد</td>\n",
       "      <td>...</td>\n",
       "      <td>Pitting</td>\n",
       "      <td>Corrosion</td>\n",
       "      <td>A. Stainless steel</td>\n",
       "      <td>C. Pitting corrosion</td>\n",
       "      <td>Pitting corrosion</td>\n",
       "      <td>B. Polarisation</td>\n",
       "      <td>Polarization</td>\n",
       "      <td>Critical pitting temperatures</td>\n",
       "      <td>Polarisation</td>\n",
       "      <td>Stainless steel - Pitting - Corrosion - A. Sta...</td>\n",
       "    </tr>\n",
       "    <tr>\n",
       "      <th>3</th>\n",
       "      <td>1392</td>\n",
       "      <td>سیدعبدالکریم</td>\n",
       "      <td>سجادی</td>\n",
       "      <td>Seyed Abdolkarim</td>\n",
       "      <td>Sajjadi</td>\n",
       "      <td>مرد</td>\n",
       "      <td>مهندسی</td>\n",
       "      <td>مهندسی متالورژی و مواد</td>\n",
       "      <td>دکترای تخصصی (PhD)</td>\n",
       "      <td>مهندسی مواد</td>\n",
       "      <td>...</td>\n",
       "      <td>Microstructure</td>\n",
       "      <td>Superalloys</td>\n",
       "      <td>Mechanical alloying</td>\n",
       "      <td>Spark plasma sintering</td>\n",
       "      <td>Mechanical properties</td>\n",
       "      <td>Hardness</td>\n",
       "      <td>Aluminum</td>\n",
       "      <td>Sintering</td>\n",
       "      <td>Stir-Casting</td>\n",
       "      <td>Nanocomposite - Microstructure - Superalloys -...</td>\n",
       "    </tr>\n",
       "    <tr>\n",
       "      <th>4</th>\n",
       "      <td>665</td>\n",
       "      <td>علی</td>\n",
       "      <td>داودی</td>\n",
       "      <td>Ali</td>\n",
       "      <td>Davoodi</td>\n",
       "      <td>مرد</td>\n",
       "      <td>مهندسی</td>\n",
       "      <td>مهندسی متالورژی و مواد</td>\n",
       "      <td>دکترای تخصصی (PhD)</td>\n",
       "      <td>مهندسی مواد - خوردگی</td>\n",
       "      <td>...</td>\n",
       "      <td>Corrosion resistance</td>\n",
       "      <td>Electrochemical impedance spectroscopy</td>\n",
       "      <td>Electrochemical corrosion</td>\n",
       "      <td>Polarization</td>\n",
       "      <td>Localized corrosion</td>\n",
       "      <td>Afm</td>\n",
       "      <td>Galvanic Corrosion</td>\n",
       "      <td>Eis</td>\n",
       "      <td>Atomic force microscopy</td>\n",
       "      <td>Corrosion - Corrosion resistance - Electrochem...</td>\n",
       "    </tr>\n",
       "  </tbody>\n",
       "</table>\n",
       "<p>5 rows × 23 columns</p>\n",
       "</div>"
      ],
      "text/plain": [
       "   شناسه           نام       نام خانوادگی              Name  \\\n",
       "0     21          جواد  ابوالفضلی اصفهانی             Javad   \n",
       "1    363          محمد        پسندیده فرد          Mohammad   \n",
       "2    111      محمدهادی               مؤید     Mohammad Hadi   \n",
       "3   1392  سیدعبدالکریم              سجادی  Seyed Abdolkarim   \n",
       "4    665           علی              داودی               Ali   \n",
       "\n",
       "               Family جنسیت دانشکده             گروه آموزشی  \\\n",
       "0  Abolfazli Esfahani   مرد  مهندسی           مهندسی مکانیک   \n",
       "1    Passandideh-Fard   مرد  مهندسی           مهندسی مکانیک   \n",
       "2              Moayed   مرد  مهندسی  مهندسی متالورژی و مواد   \n",
       "3             Sajjadi   مرد  مهندسی  مهندسی متالورژی و مواد   \n",
       "4             Davoodi   مرد  مهندسی  مهندسی متالورژی و مواد   \n",
       "\n",
       "          مقطع تحصیلی                     رشته تحصیلی  ...  \\\n",
       "0  دکترای تخصصی (PhD)  مهندسی مکانیک (حرارت وسیالات )  ...   \n",
       "1  دکترای تخصصی (PhD)                          مکانیک  ...   \n",
       "2  دکترای تخصصی (PhD)                            مواد  ...   \n",
       "3  دکترای تخصصی (PhD)                     مهندسی مواد  ...   \n",
       "4  دکترای تخصصی (PhD)            مهندسی مواد - خوردگی  ...   \n",
       "\n",
       "                        Field 2                                 Field 3  \\\n",
       "0                 Heat transfer                         Reynolds number   \n",
       "1  Photovoltaic thermal systems                       Free-surface flow   \n",
       "2                       Pitting                               Corrosion   \n",
       "3                Microstructure                             Superalloys   \n",
       "4          Corrosion resistance  Electrochemical impedance spectroscopy   \n",
       "\n",
       "                     Field 4                  Field 5                Field 6  \\\n",
       "0   Lattice Boltzmann method       Natural convection             Nanofluids   \n",
       "1             Solidification  Navier Stokes equations  Photovoltaic thermals   \n",
       "2         A. Stainless steel     C. Pitting corrosion      Pitting corrosion   \n",
       "3        Mechanical alloying   Spark plasma sintering  Mechanical properties   \n",
       "4  Electrochemical corrosion             Polarization    Localized corrosion   \n",
       "\n",
       "                Field 7                 Field 8  \\\n",
       "0  Finite volume method          Turbulent flow   \n",
       "1         Heat transfer  Phase change materials   \n",
       "2       B. Polarisation            Polarization   \n",
       "3              Hardness                Aluminum   \n",
       "4                   Afm      Galvanic Corrosion   \n",
       "\n",
       "                         Field 9                 Field 10  \\\n",
       "0         Heat and mass transfer          Micro-combustor   \n",
       "1                     Vof Method                   Exergy   \n",
       "2  Critical pitting temperatures             Polarisation   \n",
       "3                      Sintering             Stir-Casting   \n",
       "4                            Eis  Atomic force microscopy   \n",
       "\n",
       "                                              Fields  \n",
       "0  Entropy generation - Heat transfer - Reynolds ...  \n",
       "1  Nanofluids - Photovoltaic thermal systems - Fr...  \n",
       "2  Stainless steel - Pitting - Corrosion - A. Sta...  \n",
       "3  Nanocomposite - Microstructure - Superalloys -...  \n",
       "4  Corrosion - Corrosion resistance - Electrochem...  \n",
       "\n",
       "[5 rows x 23 columns]"
      ]
     },
     "execution_count": 58,
     "metadata": {},
     "output_type": "execute_result"
    }
   ],
   "source": [
    "main_dataset = connect_features(main_dataset)\n",
    "main_dataset.head()"
   ]
  },
  {
   "cell_type": "markdown",
   "metadata": {},
   "source": [
    "### Here, the most important part of the code, I'll calculate the distance using spaCy \n",
    "### spaCy is a model for word vectorization based on semantic similarity \n",
    "#### For more info about spaCy click [here](https://spacy.io/usage/vectors-similarity)."
   ]
  },
  {
   "cell_type": "code",
   "execution_count": 59,
   "metadata": {},
   "outputs": [],
   "source": [
    "def spacy_semantic_similarity(sentence1, sentence2):\n",
    "    sentence1 = nlp(sentence1)\n",
    "    sentence2 = nlp(sentence2)\n",
    "    \n",
    "    return sentence1.similarity(sentence2)"
   ]
  },
  {
   "cell_type": "markdown",
   "metadata": {},
   "source": [
    "### Theres some examples to get more about spaCy"
   ]
  },
  {
   "cell_type": "code",
   "execution_count": 60,
   "metadata": {},
   "outputs": [
    {
     "data": {
      "text/plain": [
       "0.8016854705531046"
      ]
     },
     "execution_count": 60,
     "metadata": {},
     "output_type": "execute_result"
    }
   ],
   "source": [
    "spacy_semantic_similarity('dog', 'cat')"
   ]
  },
  {
   "cell_type": "code",
   "execution_count": 61,
   "metadata": {},
   "outputs": [
    {
     "data": {
      "text/plain": [
       "0.7085842403739737"
      ]
     },
     "execution_count": 61,
     "metadata": {},
     "output_type": "execute_result"
    }
   ],
   "source": [
    "spacy_semantic_similarity('pen', 'pencil')"
   ]
  },
  {
   "cell_type": "markdown",
   "metadata": {},
   "source": [
    "### Combination of them"
   ]
  },
  {
   "cell_type": "code",
   "execution_count": 62,
   "metadata": {},
   "outputs": [
    {
     "data": {
      "text/plain": [
       "0.8442632419880388"
      ]
     },
     "execution_count": 62,
     "metadata": {},
     "output_type": "execute_result"
    }
   ],
   "source": [
    "spacy_semantic_similarity('dog-pen', 'cat-pencil')"
   ]
  },
  {
   "cell_type": "markdown",
   "metadata": {},
   "source": [
    "### Check the preority\n",
    "#### > No preority"
   ]
  },
  {
   "cell_type": "code",
   "execution_count": 63,
   "metadata": {},
   "outputs": [
    {
     "data": {
      "text/plain": [
       "0.8442632438866646"
      ]
     },
     "execution_count": 63,
     "metadata": {},
     "output_type": "execute_result"
    }
   ],
   "source": [
    "spacy_semantic_similarity('dog-pen', 'pencil-cat')"
   ]
  },
  {
   "cell_type": "code",
   "execution_count": 64,
   "metadata": {},
   "outputs": [
    {
     "data": {
      "text/plain": [
       "0.7301827683773489"
      ]
     },
     "execution_count": 64,
     "metadata": {},
     "output_type": "execute_result"
    }
   ],
   "source": [
    "spacy_semantic_similarity('machine-learning', 'computer-vision')"
   ]
  },
  {
   "cell_type": "code",
   "execution_count": 65,
   "metadata": {},
   "outputs": [
    {
     "data": {
      "text/plain": [
       "0.5259379727863402"
      ]
     },
     "execution_count": 65,
     "metadata": {},
     "output_type": "execute_result"
    }
   ],
   "source": [
    "spacy_semantic_similarity('machine-learning', 'data-mining')"
   ]
  },
  {
   "cell_type": "code",
   "execution_count": 66,
   "metadata": {},
   "outputs": [
    {
     "data": {
      "text/plain": [
       "0.05298170429970831"
      ]
     },
     "execution_count": 66,
     "metadata": {},
     "output_type": "execute_result"
    }
   ],
   "source": [
    "spacy_semantic_similarity('machine-learning', 'Bioavailability')"
   ]
  },
  {
   "cell_type": "markdown",
   "metadata": {},
   "source": [
    "### Ok, now try to make the similarity matrix for dataset\n",
    "#### Notice: This matrix takes a little time to be made"
   ]
  },
  {
   "cell_type": "code",
   "execution_count": 70,
   "metadata": {},
   "outputs": [],
   "source": [
    "similarity_matrix = np.zeros((main_dataset.shape[0], main_dataset.shape[0]))\n",
    "for index1, person1 in main_dataset.iterrows():\n",
    "    for index2, person2 in main_dataset.iterrows():\n",
    "        if index2 > index1:\n",
    "            similarity_matrix[index1, index2] = spacy_semantic_similarity(person1['Fields'], person2['Fields'])"
   ]
  },
  {
   "cell_type": "code",
   "execution_count": 74,
   "metadata": {},
   "outputs": [
    {
     "data": {
      "text/plain": [
       "array([[0.        , 0.92748629, 0.71808902, ..., 0.81340817, 0.80192774,\n",
       "        0.77491179],\n",
       "       [0.        , 0.        , 0.76315971, ..., 0.83208795, 0.75463932,\n",
       "        0.75718944],\n",
       "       [0.        , 0.        , 0.        , ..., 0.65628239, 0.56880339,\n",
       "        0.59999245],\n",
       "       ...,\n",
       "       [0.        , 0.        , 0.        , ..., 0.        , 0.79648378,\n",
       "        0.79766923],\n",
       "       [0.        , 0.        , 0.        , ..., 0.        , 0.        ,\n",
       "        0.84120179],\n",
       "       [0.        , 0.        , 0.        , ..., 0.        , 0.        ,\n",
       "        0.        ]])"
      ]
     },
     "execution_count": 74,
     "metadata": {},
     "output_type": "execute_result"
    }
   ],
   "source": [
    "similarity_matrix"
   ]
  },
  {
   "cell_type": "code",
   "execution_count": 75,
   "metadata": {},
   "outputs": [],
   "source": [
    "for index, person in main_dataset.iterrows():\n",
    "    similarity_matrix[index, index] = 1"
   ]
  },
  {
   "cell_type": "code",
   "execution_count": 76,
   "metadata": {},
   "outputs": [
    {
     "data": {
      "text/plain": [
       "array([[1.        , 0.92748629, 0.71808902, ..., 0.81340817, 0.80192774,\n",
       "        0.77491179],\n",
       "       [0.        , 1.        , 0.76315971, ..., 0.83208795, 0.75463932,\n",
       "        0.75718944],\n",
       "       [0.        , 0.        , 1.        , ..., 0.65628239, 0.56880339,\n",
       "        0.59999245],\n",
       "       ...,\n",
       "       [0.        , 0.        , 0.        , ..., 1.        , 0.79648378,\n",
       "        0.79766923],\n",
       "       [0.        , 0.        , 0.        , ..., 0.        , 1.        ,\n",
       "        0.84120179],\n",
       "       [0.        , 0.        , 0.        , ..., 0.        , 0.        ,\n",
       "        1.        ]])"
      ]
     },
     "execution_count": 76,
     "metadata": {},
     "output_type": "execute_result"
    }
   ],
   "source": [
    "similarity_matrix"
   ]
  },
  {
   "cell_type": "code",
   "execution_count": 77,
   "metadata": {},
   "outputs": [
    {
     "data": {
      "text/plain": [
       "array([[1.        , 0.92748629, 0.71808902, ..., 0.81340817, 0.80192774,\n",
       "        0.77491179],\n",
       "       [0.92748629, 1.        , 0.76315971, ..., 0.83208795, 0.75463932,\n",
       "        0.75718944],\n",
       "       [0.71808902, 0.76315971, 1.        , ..., 0.65628239, 0.56880339,\n",
       "        0.59999245],\n",
       "       ...,\n",
       "       [0.81340817, 0.83208795, 0.65628239, ..., 1.        , 0.79648378,\n",
       "        0.79766923],\n",
       "       [0.80192774, 0.75463932, 0.56880339, ..., 0.79648378, 1.        ,\n",
       "        0.84120179],\n",
       "       [0.77491179, 0.75718944, 0.59999245, ..., 0.79766923, 0.84120179,\n",
       "        1.        ]])"
      ]
     },
     "execution_count": 77,
     "metadata": {},
     "output_type": "execute_result"
    }
   ],
   "source": [
    "similarity_matrix = similarity_matrix + similarity_matrix.T - np.diag(np.diag(similarity_matrix))\n",
    "similarity_matrix"
   ]
  },
  {
   "cell_type": "markdown",
   "metadata": {},
   "source": [
    "### Here we go :)"
   ]
  },
  {
   "cell_type": "code",
   "execution_count": null,
   "metadata": {},
   "outputs": [],
   "source": []
  },
  {
   "cell_type": "markdown",
   "metadata": {},
   "source": [
    "### Now try to make a dendrogram to have a good visualization on datas\n",
    "### Then decide number of clusters"
   ]
  },
  {
   "cell_type": "markdown",
   "metadata": {},
   "source": [
    "### Fisrt, I'm gonna use 'complete' method for agglomerative clustering "
   ]
  },
  {
   "cell_type": "code",
   "execution_count": 151,
   "metadata": {},
   "outputs": [
    {
     "data": {
      "image/png": "[encoded data removed]",
      "text/plain": [
       "<Figure size 1440x1080 with 1 Axes>"
      ]
     },
     "metadata": {
      "needs_background": "light"
     },
     "output_type": "display_data"
    }
   ],
   "source": [
    "fig = plt.figure(figsize=(20, 15))\n",
    "plt.title(\"Dendrograms\")  \n",
    "dend = shc.dendrogram(shc.linkage(similarity_matrix, method='complete'), color_threshold=1.45)"
   ]
  },
  {
   "cell_type": "code",
   "execution_count": 152,
   "metadata": {},
   "outputs": [],
   "source": [
    "fig.savefig('EngFacultyComplete.jpg', format='jpg', bbox_inches='tight')"
   ]
  },
  {
   "cell_type": "markdown",
   "metadata": {},
   "source": [
    "### Make a dendrogram with a cut-off on 5 levels"
   ]
  },
  {
   "cell_type": "code",
   "execution_count": 125,
   "metadata": {},
   "outputs": [
    {
     "data": {
      "image/png": "[encoded data removed]",
      "text/plain": [
       "<Figure size 1440x1080 with 1 Axes>"
      ]
     },
     "metadata": {
      "needs_background": "light"
     },
     "output_type": "display_data"
    }
   ],
   "source": [
    "fig = plt.figure(figsize=(20, 15))  \n",
    "plt.title(\"Dendrograms\")  \n",
    "dend = shc.dendrogram(shc.linkage(similarity_matrix, method='complete'), p=7, truncate_mode='lastp', color_threshold=1.7)"
   ]
  },
  {
   "cell_type": "code",
   "execution_count": 25,
   "metadata": {},
   "outputs": [],
   "source": [
    "# fig.savefig('cut_dendrogram2.jpg', format='jpg', bbox_inches='tight')"
   ]
  },
  {
   "cell_type": "markdown",
   "metadata": {},
   "source": [
    "### Now I'm gonna use 'ward' method for clustering"
   ]
  },
  {
   "cell_type": "code",
   "execution_count": 155,
   "metadata": {},
   "outputs": [
    {
     "data": {
      "image/png": "[encoded data removed]",
      "text/plain": [
       "<Figure size 1440x1080 with 1 Axes>"
      ]
     },
     "metadata": {
      "needs_background": "light"
     },
     "output_type": "display_data"
    }
   ],
   "source": [
    "plt.figure(figsize=(20, 15))  \n",
    "plt.title(\"Dendrograms\")  \n",
    "dend = shc.dendrogram(shc.linkage(similarity_matrix, method='ward'), color_threshold=2.6)"
   ]
  },
  {
   "cell_type": "code",
   "execution_count": 156,
   "metadata": {},
   "outputs": [],
   "source": [
    "fig.savefig('EngFacultyWard.jpg', format='jpg', bbox_inches='tight')"
   ]
  },
  {
   "cell_type": "markdown",
   "metadata": {},
   "source": [
    "### As u saw, It seems the 'complete' method is more suitable for our datas \n",
    "### But I'm not sure."
   ]
  },
  {
   "cell_type": "markdown",
   "metadata": {},
   "source": [
    "### Suppose that I'm right and  the 'complete' method is better at clustering these datas \n",
    "### So according to the dendrogram, It seems that theres 8 clusters"
   ]
  },
  {
   "cell_type": "code",
   "execution_count": 147,
   "metadata": {},
   "outputs": [],
   "source": [
    "model = AgglomerativeClustering(n_clusters=7, linkage='ward').fit(similarity_matrix)\n",
    "main_dataset['cluster'] = model.labels_"
   ]
  },
  {
   "cell_type": "markdown",
   "metadata": {},
   "source": [
    "### Now try to do grouping by, on clusters to have fields of each cluster togather"
   ]
  },
  {
   "cell_type": "code",
   "execution_count": 148,
   "metadata": {},
   "outputs": [
    {
     "data": {
      "text/html": [
       "<div>\n",
       "<style scoped>\n",
       "    .dataframe tbody tr th:only-of-type {\n",
       "        vertical-align: middle;\n",
       "    }\n",
       "\n",
       "    .dataframe tbody tr th {\n",
       "        vertical-align: top;\n",
       "    }\n",
       "\n",
       "    .dataframe thead th {\n",
       "        text-align: right;\n",
       "    }\n",
       "</style>\n",
       "<table border=\"1\" class=\"dataframe\">\n",
       "  <thead>\n",
       "    <tr style=\"text-align: right;\">\n",
       "      <th></th>\n",
       "      <th>شناسه</th>\n",
       "      <th>نام</th>\n",
       "      <th>نام خانوادگی</th>\n",
       "      <th>Name</th>\n",
       "      <th>Family</th>\n",
       "      <th>جنسیت</th>\n",
       "      <th>دانشکده</th>\n",
       "      <th>گروه آموزشی</th>\n",
       "      <th>مقطع تحصیلی</th>\n",
       "      <th>رشته تحصیلی</th>\n",
       "      <th>...</th>\n",
       "      <th>Field 2</th>\n",
       "      <th>Field 3</th>\n",
       "      <th>Field 4</th>\n",
       "      <th>Field 5</th>\n",
       "      <th>Field 6</th>\n",
       "      <th>Field 7</th>\n",
       "      <th>Field 8</th>\n",
       "      <th>Field 9</th>\n",
       "      <th>Field 10</th>\n",
       "      <th>Fields</th>\n",
       "    </tr>\n",
       "    <tr>\n",
       "      <th>cluster</th>\n",
       "      <th></th>\n",
       "      <th></th>\n",
       "      <th></th>\n",
       "      <th></th>\n",
       "      <th></th>\n",
       "      <th></th>\n",
       "      <th></th>\n",
       "      <th></th>\n",
       "      <th></th>\n",
       "      <th></th>\n",
       "      <th></th>\n",
       "      <th></th>\n",
       "      <th></th>\n",
       "      <th></th>\n",
       "      <th></th>\n",
       "      <th></th>\n",
       "      <th></th>\n",
       "      <th></th>\n",
       "      <th></th>\n",
       "      <th></th>\n",
       "      <th></th>\n",
       "    </tr>\n",
       "  </thead>\n",
       "  <tbody>\n",
       "    <tr>\n",
       "      <th>0</th>\n",
       "      <td>404</td>\n",
       "      <td>محمدباقر</td>\n",
       "      <td>نقیبی سیستانی</td>\n",
       "      <td>Mohammad Bagher</td>\n",
       "      <td>Naghibi Sistani</td>\n",
       "      <td>مرد</td>\n",
       "      <td>مهندسی</td>\n",
       "      <td>مهندسی برق</td>\n",
       "      <td>دکترای تخصصی (PhD)</td>\n",
       "      <td>برق - کنترل</td>\n",
       "      <td>...</td>\n",
       "      <td>Input Constraints</td>\n",
       "      <td>Optimal controls</td>\n",
       "      <td>Policy Iteration</td>\n",
       "      <td>Multi agent systems</td>\n",
       "      <td>Neural networks</td>\n",
       "      <td>Learning algorithms</td>\n",
       "      <td>Adaptive optimal control</td>\n",
       "      <td>Adaptive control systems</td>\n",
       "      <td>Q-learning</td>\n",
       "      <td>Reinforcement learning - Input Constraints - O...</td>\n",
       "    </tr>\n",
       "    <tr>\n",
       "      <th>1</th>\n",
       "      <td>21</td>\n",
       "      <td>جواد</td>\n",
       "      <td>ابوالفضلی اصفهانی</td>\n",
       "      <td>Javad</td>\n",
       "      <td>Abolfazli Esfahani</td>\n",
       "      <td>مرد</td>\n",
       "      <td>مهندسی</td>\n",
       "      <td>مهندسی مکانیک</td>\n",
       "      <td>دکترای تخصصی (PhD)</td>\n",
       "      <td>مهندسی مکانیک (حرارت وسیالات )</td>\n",
       "      <td>...</td>\n",
       "      <td>Heat transfer</td>\n",
       "      <td>Reynolds number</td>\n",
       "      <td>Lattice Boltzmann method</td>\n",
       "      <td>Natural convection</td>\n",
       "      <td>Nanofluids</td>\n",
       "      <td>Finite volume method</td>\n",
       "      <td>Turbulent flow</td>\n",
       "      <td>Heat and mass transfer</td>\n",
       "      <td>Micro-combustor</td>\n",
       "      <td>Entropy generation - Heat transfer - Reynolds ...</td>\n",
       "    </tr>\n",
       "    <tr>\n",
       "      <th>2</th>\n",
       "      <td>1392</td>\n",
       "      <td>سیدعبدالکریم</td>\n",
       "      <td>سجادی</td>\n",
       "      <td>Seyed Abdolkarim</td>\n",
       "      <td>Sajjadi</td>\n",
       "      <td>مرد</td>\n",
       "      <td>مهندسی</td>\n",
       "      <td>مهندسی متالورژی و مواد</td>\n",
       "      <td>دکترای تخصصی (PhD)</td>\n",
       "      <td>مهندسی مواد</td>\n",
       "      <td>...</td>\n",
       "      <td>Microstructure</td>\n",
       "      <td>Superalloys</td>\n",
       "      <td>Mechanical alloying</td>\n",
       "      <td>Spark plasma sintering</td>\n",
       "      <td>Mechanical properties</td>\n",
       "      <td>Hardness</td>\n",
       "      <td>Aluminum</td>\n",
       "      <td>Sintering</td>\n",
       "      <td>Stir-Casting</td>\n",
       "      <td>Nanocomposite - Microstructure - Superalloys -...</td>\n",
       "    </tr>\n",
       "    <tr>\n",
       "      <th>3</th>\n",
       "      <td>161</td>\n",
       "      <td>جواد</td>\n",
       "      <td>ساده</td>\n",
       "      <td>Javad</td>\n",
       "      <td>Sadeh</td>\n",
       "      <td>مرد</td>\n",
       "      <td>مهندسی</td>\n",
       "      <td>مهندسی برق</td>\n",
       "      <td>دکترای تخصصی (PhD)</td>\n",
       "      <td>مهندسی برق (قدرت)</td>\n",
       "      <td>...</td>\n",
       "      <td>Fault location algorithms</td>\n",
       "      <td>Electric fault location</td>\n",
       "      <td>Load-frequency control</td>\n",
       "      <td>Deregulated power system</td>\n",
       "      <td>Electric lines</td>\n",
       "      <td>Reduced-order observers</td>\n",
       "      <td>Distributed parameter line model</td>\n",
       "      <td>Relay coordination</td>\n",
       "      <td>Fault resistances</td>\n",
       "      <td>Fault Location - Fault location algorithms - E...</td>\n",
       "    </tr>\n",
       "    <tr>\n",
       "      <th>4</th>\n",
       "      <td>592</td>\n",
       "      <td>محمد</td>\n",
       "      <td>منفرد</td>\n",
       "      <td>Mohammad</td>\n",
       "      <td>Monfared</td>\n",
       "      <td>مرد</td>\n",
       "      <td>مهندسی</td>\n",
       "      <td>مهندسی برق</td>\n",
       "      <td>دکترای تخصصی (PhD)</td>\n",
       "      <td>مهندسی برق - قدرت</td>\n",
       "      <td>...</td>\n",
       "      <td>Phase Locked Loop (PLL)</td>\n",
       "      <td>Power converters</td>\n",
       "      <td>Direct power control</td>\n",
       "      <td>Voltage source converters</td>\n",
       "      <td>Synchronous reference frame</td>\n",
       "      <td>Synchronization</td>\n",
       "      <td>Coupled inductor</td>\n",
       "      <td>Grid-connected converters</td>\n",
       "      <td>DC-DC converters</td>\n",
       "      <td>Electric inverters - Phase Locked Loop (PLL) -...</td>\n",
       "    </tr>\n",
       "    <tr>\n",
       "      <th>5</th>\n",
       "      <td>111</td>\n",
       "      <td>محمدهادی</td>\n",
       "      <td>مؤید</td>\n",
       "      <td>Mohammad Hadi</td>\n",
       "      <td>Moayed</td>\n",
       "      <td>مرد</td>\n",
       "      <td>مهندسی</td>\n",
       "      <td>مهندسی متالورژی و مواد</td>\n",
       "      <td>دکترای تخصصی (PhD)</td>\n",
       "      <td>مواد</td>\n",
       "      <td>...</td>\n",
       "      <td>Pitting</td>\n",
       "      <td>Corrosion</td>\n",
       "      <td>A. Stainless steel</td>\n",
       "      <td>C. Pitting corrosion</td>\n",
       "      <td>Pitting corrosion</td>\n",
       "      <td>B. Polarisation</td>\n",
       "      <td>Polarization</td>\n",
       "      <td>Critical pitting temperatures</td>\n",
       "      <td>Polarisation</td>\n",
       "      <td>Stainless steel - Pitting - Corrosion - A. Sta...</td>\n",
       "    </tr>\n",
       "    <tr>\n",
       "      <th>6</th>\n",
       "      <td>648</td>\n",
       "      <td>احسان</td>\n",
       "      <td>روحی گل خطمی</td>\n",
       "      <td>Ehsan</td>\n",
       "      <td>Roohi</td>\n",
       "      <td>مرد</td>\n",
       "      <td>مهندسی</td>\n",
       "      <td>مهندسی مکانیک</td>\n",
       "      <td>دکترای تخصصی (PhD)</td>\n",
       "      <td>مهندسی هوافضا - جلوبرندگی</td>\n",
       "      <td>...</td>\n",
       "      <td>Rarefied gas flow</td>\n",
       "      <td>OpenFOAM</td>\n",
       "      <td>Rarefied flow</td>\n",
       "      <td>Direct simulation Monte Carlo method</td>\n",
       "      <td>Direct simulation monte carlo</td>\n",
       "      <td>Microchannels</td>\n",
       "      <td>Monte Carlo methods</td>\n",
       "      <td>Heat transfer</td>\n",
       "      <td>Heat flux</td>\n",
       "      <td>Dsmc - Rarefied gas flow - OpenFOAM - Rarefied...</td>\n",
       "    </tr>\n",
       "  </tbody>\n",
       "</table>\n",
       "<p>7 rows × 23 columns</p>\n",
       "</div>"
      ],
      "text/plain": [
       "         شناسه           نام       نام خانوادگی              Name  \\\n",
       "cluster                                                             \n",
       "0          404      محمدباقر      نقیبی سیستانی   Mohammad Bagher   \n",
       "1           21          جواد  ابوالفضلی اصفهانی             Javad   \n",
       "2         1392  سیدعبدالکریم              سجادی  Seyed Abdolkarim   \n",
       "3          161          جواد               ساده             Javad   \n",
       "4          592          محمد              منفرد          Mohammad   \n",
       "5          111      محمدهادی               مؤید     Mohammad Hadi   \n",
       "6          648         احسان       روحی گل خطمی             Ehsan   \n",
       "\n",
       "                     Family جنسیت دانشکده             گروه آموزشی  \\\n",
       "cluster                                                             \n",
       "0           Naghibi Sistani   مرد  مهندسی              مهندسی برق   \n",
       "1        Abolfazli Esfahani   مرد  مهندسی           مهندسی مکانیک   \n",
       "2                   Sajjadi   مرد  مهندسی  مهندسی متالورژی و مواد   \n",
       "3                     Sadeh   مرد  مهندسی              مهندسی برق   \n",
       "4                  Monfared   مرد  مهندسی              مهندسی برق   \n",
       "5                    Moayed   مرد  مهندسی  مهندسی متالورژی و مواد   \n",
       "6                     Roohi   مرد  مهندسی           مهندسی مکانیک   \n",
       "\n",
       "                مقطع تحصیلی                     رشته تحصیلی  ...  \\\n",
       "cluster                                                      ...   \n",
       "0        دکترای تخصصی (PhD)                     برق - کنترل  ...   \n",
       "1        دکترای تخصصی (PhD)  مهندسی مکانیک (حرارت وسیالات )  ...   \n",
       "2        دکترای تخصصی (PhD)                     مهندسی مواد  ...   \n",
       "3        دکترای تخصصی (PhD)               مهندسی برق (قدرت)  ...   \n",
       "4        دکترای تخصصی (PhD)               مهندسی برق - قدرت  ...   \n",
       "5        دکترای تخصصی (PhD)                            مواد  ...   \n",
       "6        دکترای تخصصی (PhD)       مهندسی هوافضا - جلوبرندگی  ...   \n",
       "\n",
       "                           Field 2                  Field 3  \\\n",
       "cluster                                                       \n",
       "0                Input Constraints         Optimal controls   \n",
       "1                    Heat transfer          Reynolds number   \n",
       "2                   Microstructure              Superalloys   \n",
       "3        Fault location algorithms  Electric fault location   \n",
       "4          Phase Locked Loop (PLL)         Power converters   \n",
       "5                          Pitting                Corrosion   \n",
       "6                Rarefied gas flow                 OpenFOAM   \n",
       "\n",
       "                          Field 4                               Field 5  \\\n",
       "cluster                                                                   \n",
       "0                Policy Iteration                   Multi agent systems   \n",
       "1        Lattice Boltzmann method                    Natural convection   \n",
       "2             Mechanical alloying                Spark plasma sintering   \n",
       "3          Load-frequency control              Deregulated power system   \n",
       "4            Direct power control             Voltage source converters   \n",
       "5              A. Stainless steel                  C. Pitting corrosion   \n",
       "6                   Rarefied flow  Direct simulation Monte Carlo method   \n",
       "\n",
       "                               Field 6                  Field 7  \\\n",
       "cluster                                                           \n",
       "0                      Neural networks      Learning algorithms   \n",
       "1                           Nanofluids     Finite volume method   \n",
       "2                Mechanical properties                 Hardness   \n",
       "3                       Electric lines  Reduced-order observers   \n",
       "4          Synchronous reference frame          Synchronization   \n",
       "5                    Pitting corrosion          B. Polarisation   \n",
       "6        Direct simulation monte carlo            Microchannels   \n",
       "\n",
       "                                  Field 8                        Field 9  \\\n",
       "cluster                                                                    \n",
       "0                Adaptive optimal control       Adaptive control systems   \n",
       "1                          Turbulent flow         Heat and mass transfer   \n",
       "2                                Aluminum                      Sintering   \n",
       "3        Distributed parameter line model             Relay coordination   \n",
       "4                        Coupled inductor      Grid-connected converters   \n",
       "5                            Polarization  Critical pitting temperatures   \n",
       "6                     Monte Carlo methods                  Heat transfer   \n",
       "\n",
       "                  Field 10                                             Fields  \n",
       "cluster                                                                        \n",
       "0               Q-learning  Reinforcement learning - Input Constraints - O...  \n",
       "1          Micro-combustor  Entropy generation - Heat transfer - Reynolds ...  \n",
       "2             Stir-Casting  Nanocomposite - Microstructure - Superalloys -...  \n",
       "3        Fault resistances  Fault Location - Fault location algorithms - E...  \n",
       "4         DC-DC converters  Electric inverters - Phase Locked Loop (PLL) -...  \n",
       "5             Polarisation  Stainless steel - Pitting - Corrosion - A. Sta...  \n",
       "6                Heat flux  Dsmc - Rarefied gas flow - OpenFOAM - Rarefied...  \n",
       "\n",
       "[7 rows x 23 columns]"
      ]
     },
     "execution_count": 148,
     "metadata": {},
     "output_type": "execute_result"
    }
   ],
   "source": [
    "groups = main_dataset.groupby(by=['cluster'])\n",
    "groups.first()"
   ]
  },
  {
   "cell_type": "code",
   "execution_count": 149,
   "metadata": {},
   "outputs": [
    {
     "data": {
      "text/plain": [
       "مهندسی برق                36\n",
       "مهندسی مکانیک             34\n",
       "مهندسی کامپیوتر           28\n",
       "مهندسی شیمی               27\n",
       "مهندسی عمران              22\n",
       "مهندسی متالورژی و مواد    18\n",
       "مهندسی صنایع              10\n",
       "Name: گروه آموزشی, dtype: int64"
      ]
     },
     "execution_count": 149,
     "metadata": {},
     "output_type": "execute_result"
    }
   ],
   "source": [
    "main_dataset['گروه آموزشی'].value_counts()"
   ]
  },
  {
   "cell_type": "code",
   "execution_count": 150,
   "metadata": {},
   "outputs": [
    {
     "name": "stdout",
     "output_type": "stream",
     "text": [
      "\n",
      "\n",
      "Cluster:  0      Count:  30\n",
      "گروه آموزشی    \n",
      "مهندسی کامپیوتر    18\n",
      "مهندسی برق          6\n",
      "مهندسی صنایع        5\n",
      "مهندسی مکانیک       1\n",
      "dtype: int64\n",
      "\n",
      "\n",
      "Cluster:  1      Count:  57\n",
      "گروه آموزشی           \n",
      "مهندسی مکانیک             22\n",
      "مهندسی عمران              12\n",
      "مهندسی شیمی               11\n",
      "مهندسی متالورژی و مواد     6\n",
      "مهندسی برق                 3\n",
      "مهندسی صنایع               2\n",
      "مهندسی کامپیوتر            1\n",
      "dtype: int64\n",
      "\n",
      "\n",
      "Cluster:  2      Count:  33\n",
      "گروه آموزشی           \n",
      "مهندسی شیمی               13\n",
      "مهندسی متالورژی و مواد     9\n",
      "مهندسی مکانیک              5\n",
      "مهندسی عمران               5\n",
      "مهندسی برق                 1\n",
      "dtype: int64\n",
      "\n",
      "\n",
      "Cluster:  3      Count:  25\n",
      "گروه آموزشی    \n",
      "مهندسی برق         10\n",
      "مهندسی کامپیوتر     8\n",
      "مهندسی عمران        4\n",
      "مهندسی صنایع        3\n",
      "dtype: int64\n",
      "\n",
      "\n",
      "Cluster:  4      Count:  7\n",
      "گروه آموزشی\n",
      "مهندسی برق     7\n",
      "dtype: int64\n",
      "\n",
      "\n",
      "Cluster:  5      Count:  6\n",
      "گروه آموزشی           \n",
      "مهندسی متالورژی و مواد    3\n",
      "مهندسی شیمی               3\n",
      "dtype: int64\n",
      "\n",
      "\n",
      "Cluster:  6      Count:  17\n",
      "گروه آموزشی    \n",
      "مهندسی برق         9\n",
      "مهندسی مکانیک      6\n",
      "مهندسی کامپیوتر    1\n",
      "مهندسی عمران       1\n",
      "dtype: int64\n"
     ]
    }
   ],
   "source": [
    "for grp, pdf in groups:\n",
    "    print(\"\\n\\nCluster: \", grp, \"     Count: \", len(pdf))\n",
    "    print(pd.DataFrame(pdf['گروه آموزشی']).value_counts())\n",
    "    df = pd.DataFrame(pdf)\n",
    "    \n",
    "    with pd.ExcelWriter('EngineeringFacultyClustersWard.xlsx', mode='a') as writer:\n",
    "        df.to_excel(writer, sheet_name='cluster ' + str(grp))"
   ]
  },
  {
   "cell_type": "code",
   "execution_count": 121,
   "metadata": {},
   "outputs": [
    {
     "data": {
      "text/plain": [
       "مهندسی برق                36\n",
       "مهندسی مکانیک             34\n",
       "مهندسی کامپیوتر           28\n",
       "مهندسی شیمی               27\n",
       "مهندسی عمران              22\n",
       "مهندسی متالورژی و مواد    18\n",
       "مهندسی صنایع              10\n",
       "Name: گروه آموزشی, dtype: int64"
      ]
     },
     "execution_count": 121,
     "metadata": {},
     "output_type": "execute_result"
    }
   ],
   "source": []
  },
  {
   "cell_type": "code",
   "execution_count": null,
   "metadata": {},
   "outputs": [],
   "source": []
  },
  {
   "cell_type": "code",
   "execution_count": 139,
   "metadata": {},
   "outputs": [],
   "source": [
    "# for grp, pdf in groups:\n",
    "#     print(\"\\n\\nCluster: \", grp, \"     Count: \", len(pdf))\n",
    "#     print(('  -  '.join(set(('-'.join(set(pdf['Fields'].tolist()))).split('-')))).replace('\\n', ' '))"
   ]
  },
  {
   "cell_type": "code",
   "execution_count": null,
   "metadata": {},
   "outputs": [],
   "source": []
  },
  {
   "cell_type": "markdown",
   "metadata": {},
   "source": [
    "#### Yohaa :) DID IT."
   ]
  },
  {
   "cell_type": "code",
   "execution_count": null,
   "metadata": {},
   "outputs": [],
   "source": []
  }
 ],
 "metadata": {
  "kernelspec": {
   "display_name": "Python 3",
   "language": "python",
   "name": "python3"
  },
  "language_info": {
   "codemirror_mode": {
    "name": "ipython",
    "version": 3
   },
   "file_extension": ".py",
   "mimetype": "text/x-python",
   "name": "python",
   "nbconvert_exporter": "python",
   "pygments_lexer": "ipython3",
   "version": "3.8.6"
  }
 },
 "nbformat": 4,
 "nbformat_minor": 4
}
