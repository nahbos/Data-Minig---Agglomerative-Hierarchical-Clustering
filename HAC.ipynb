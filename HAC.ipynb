{
 "cells": [
  {
   "cell_type": "markdown",
   "metadata": {},
   "source": [
    "### Copyright (C) 2020 Sobhan Moradiyan Daghigh - All Rights Reserved\n",
    "##### 12/5/2020"
   ]
  },
  {
   "cell_type": "code",
   "execution_count": 63,
   "metadata": {},
   "outputs": [],
   "source": [
    "import pandas as pd\n",
    "import numpy as np\n",
    "import scipy.cluster.hierarchy as shc\n",
    "from sklearn.preprocessing import normalize, LabelEncoder\n",
    "import matplotlib.pyplot as plt\n",
    "from nltk.corpus import wordnet\n",
    "%matplotlib inline"
   ]
  },
  {
   "cell_type": "code",
   "execution_count": 174,
   "metadata": {},
   "outputs": [
    {
     "data": {
      "text/html": [
       "<div>\n",
       "<style scoped>\n",
       "    .dataframe tbody tr th:only-of-type {\n",
       "        vertical-align: middle;\n",
       "    }\n",
       "\n",
       "    .dataframe tbody tr th {\n",
       "        vertical-align: top;\n",
       "    }\n",
       "\n",
       "    .dataframe thead th {\n",
       "        text-align: right;\n",
       "    }\n",
       "</style>\n",
       "<table border=\"1\" class=\"dataframe\">\n",
       "  <thead>\n",
       "    <tr style=\"text-align: right;\">\n",
       "      <th></th>\n",
       "      <th>ID</th>\n",
       "      <th>ScopH</th>\n",
       "      <th>ScopIntpp</th>\n",
       "      <th>GoSchopp</th>\n",
       "      <th>GoSchcite</th>\n",
       "      <th>GoSchH</th>\n",
       "      <th>Field 1</th>\n",
       "      <th>Field 2</th>\n",
       "      <th>Field 3</th>\n",
       "      <th>Field 4</th>\n",
       "      <th>Field 5</th>\n",
       "      <th>Field 6</th>\n",
       "      <th>Field 7</th>\n",
       "      <th>Field 8</th>\n",
       "      <th>Field 9</th>\n",
       "      <th>Field 10</th>\n",
       "    </tr>\n",
       "  </thead>\n",
       "  <tbody>\n",
       "    <tr>\n",
       "      <th>0</th>\n",
       "      <td>297</td>\n",
       "      <td>15.0</td>\n",
       "      <td>17.0</td>\n",
       "      <td>NaN</td>\n",
       "      <td>NaN</td>\n",
       "      <td>NaN</td>\n",
       "      <td>Zinc</td>\n",
       "      <td>Cadmium</td>\n",
       "      <td>Soil pollution</td>\n",
       "      <td>Organoclay</td>\n",
       "      <td>Calcareous Soil</td>\n",
       "      <td>Bioavailability</td>\n",
       "      <td>Sulfur-oxidizing bacteria</td>\n",
       "      <td>Manures</td>\n",
       "      <td>Soil solutions</td>\n",
       "      <td>Salinity</td>\n",
       "    </tr>\n",
       "    <tr>\n",
       "      <th>1</th>\n",
       "      <td>242</td>\n",
       "      <td>12.0</td>\n",
       "      <td>10.0</td>\n",
       "      <td>NaN</td>\n",
       "      <td>NaN</td>\n",
       "      <td>NaN</td>\n",
       "      <td>Yield</td>\n",
       "      <td>Medicinal Plant</td>\n",
       "      <td>Essential oils</td>\n",
       "      <td>Replacement corm</td>\n",
       "      <td>Germination</td>\n",
       "      <td>Azotobacter chroococcum</td>\n",
       "      <td>Crocus sativus</td>\n",
       "      <td>Phytotoxicity</td>\n",
       "      <td>Pseudomonas putida</td>\n",
       "      <td>Calcareous Soil</td>\n",
       "    </tr>\n",
       "    <tr>\n",
       "      <th>2</th>\n",
       "      <td>693</td>\n",
       "      <td>NaN</td>\n",
       "      <td>34.0</td>\n",
       "      <td>NaN</td>\n",
       "      <td>NaN</td>\n",
       "      <td>NaN</td>\n",
       "      <td>Wireless sensor networks</td>\n",
       "      <td>Quality of service</td>\n",
       "      <td>Sensor nodes</td>\n",
       "      <td>Sensor networks</td>\n",
       "      <td>Network lifetime</td>\n",
       "      <td>Congestion control</td>\n",
       "      <td>Smart Grid</td>\n",
       "      <td>Internet protocols</td>\n",
       "      <td>Routing protocols</td>\n",
       "      <td>Clustering</td>\n",
       "    </tr>\n",
       "    <tr>\n",
       "      <th>3</th>\n",
       "      <td>129</td>\n",
       "      <td>19.0</td>\n",
       "      <td>31.0</td>\n",
       "      <td>259.0</td>\n",
       "      <td>2593.0</td>\n",
       "      <td>25.0</td>\n",
       "      <td>Wireless sensor networks</td>\n",
       "      <td>Quality of service</td>\n",
       "      <td>Congestion control</td>\n",
       "      <td>Sensor nodes</td>\n",
       "      <td>Network lifetime</td>\n",
       "      <td>Sensor networks</td>\n",
       "      <td>Smart Grid</td>\n",
       "      <td>Routing protocols</td>\n",
       "      <td>Internet protocols</td>\n",
       "      <td>Clustering</td>\n",
       "    </tr>\n",
       "    <tr>\n",
       "      <th>4</th>\n",
       "      <td>556</td>\n",
       "      <td>7.0</td>\n",
       "      <td>8.0</td>\n",
       "      <td>42.0</td>\n",
       "      <td>283.0</td>\n",
       "      <td>10.0</td>\n",
       "      <td>Wireless sensor networks</td>\n",
       "      <td>Routing protocols</td>\n",
       "      <td>Quality of service</td>\n",
       "      <td>Sensor nodes</td>\n",
       "      <td>Smart Grid</td>\n",
       "      <td>Directional sensor network</td>\n",
       "      <td>Fairness</td>\n",
       "      <td>Coverage</td>\n",
       "      <td>Wireless multimedia sensor network</td>\n",
       "      <td>Optimization problems</td>\n",
       "    </tr>\n",
       "    <tr>\n",
       "      <th>5</th>\n",
       "      <td>571</td>\n",
       "      <td>NaN</td>\n",
       "      <td>NaN</td>\n",
       "      <td>38.0</td>\n",
       "      <td>59.0</td>\n",
       "      <td>4.0</td>\n",
       "      <td>Wheat\\n\\nSENSITIVITY-ANALYSIS</td>\n",
       "      <td>Energy productivity</td>\n",
       "      <td>Province</td>\n",
       "      <td>Fertilizers</td>\n",
       "      <td>Renewable energies</td>\n",
       "      <td>Crop</td>\n",
       "      <td>Systems</td>\n",
       "      <td>NaN</td>\n",
       "      <td>NaN</td>\n",
       "      <td>NaN</td>\n",
       "    </tr>\n",
       "    <tr>\n",
       "      <th>6</th>\n",
       "      <td>768</td>\n",
       "      <td>14.0</td>\n",
       "      <td>13.0</td>\n",
       "      <td>107.0</td>\n",
       "      <td>781.0</td>\n",
       "      <td>17.0</td>\n",
       "      <td>Wheat Production</td>\n",
       "      <td>Sensitivity analysis</td>\n",
       "      <td>BDLRF algorithm</td>\n",
       "      <td>Ann</td>\n",
       "      <td>Soft computing models</td>\n",
       "      <td>Automotive industry</td>\n",
       "      <td>Energy modeling</td>\n",
       "      <td>Energy lost</td>\n",
       "      <td>Exhaust Emission</td>\n",
       "      <td>Artificial neural network</td>\n",
       "    </tr>\n",
       "    <tr>\n",
       "      <th>7</th>\n",
       "      <td>447</td>\n",
       "      <td>8.0</td>\n",
       "      <td>3.0</td>\n",
       "      <td>212.0</td>\n",
       "      <td>488.0</td>\n",
       "      <td>12.0</td>\n",
       "      <td>Weighted Distributions</td>\n",
       "      <td>Hazard Rate</td>\n",
       "      <td>Lorenz curve</td>\n",
       "      <td>Preservation</td>\n",
       "      <td>Tsallis entropies</td>\n",
       "      <td>Maximum Entropy</td>\n",
       "      <td>Stochastic orders</td>\n",
       "      <td>Mean residual life</td>\n",
       "      <td>Shannon entropy</td>\n",
       "      <td>Gini Index</td>\n",
       "    </tr>\n",
       "    <tr>\n",
       "      <th>8</th>\n",
       "      <td>594</td>\n",
       "      <td>11.0</td>\n",
       "      <td>9.0</td>\n",
       "      <td>78.0</td>\n",
       "      <td>1005.0</td>\n",
       "      <td>15.0</td>\n",
       "      <td>Wedgelets</td>\n",
       "      <td>Microsoft Kinect sensor</td>\n",
       "      <td>Normal Vector</td>\n",
       "      <td>Non-linear least squares</td>\n",
       "      <td>Indoor environment</td>\n",
       "      <td>Robotics</td>\n",
       "      <td>Mser</td>\n",
       "      <td>Platelets</td>\n",
       "      <td>Markov Random Fields</td>\n",
       "      <td>Image segmentation</td>\n",
       "    </tr>\n",
       "    <tr>\n",
       "      <th>9</th>\n",
       "      <td>424</td>\n",
       "      <td>5.0</td>\n",
       "      <td>4.0</td>\n",
       "      <td>33.0</td>\n",
       "      <td>157.0</td>\n",
       "      <td>6.0</td>\n",
       "      <td>Wedgelets</td>\n",
       "      <td>Classifier fusion</td>\n",
       "      <td>Combining classifiers</td>\n",
       "      <td>Non-linear least squares</td>\n",
       "      <td>Multiple classifier systems</td>\n",
       "      <td>Decision template</td>\n",
       "      <td>Joint audio visual coding</td>\n",
       "      <td>Video subjective testing</td>\n",
       "      <td>Microphones</td>\n",
       "      <td>Bubble Histogram</td>\n",
       "    </tr>\n",
       "  </tbody>\n",
       "</table>\n",
       "</div>"
      ],
      "text/plain": [
       "    ID  ScopH  ScopIntpp  GoSchopp  GoSchcite  GoSchH  \\\n",
       "0  297   15.0       17.0       NaN        NaN     NaN   \n",
       "1  242   12.0       10.0       NaN        NaN     NaN   \n",
       "2  693    NaN       34.0       NaN        NaN     NaN   \n",
       "3  129   19.0       31.0     259.0     2593.0    25.0   \n",
       "4  556    7.0        8.0      42.0      283.0    10.0   \n",
       "5  571    NaN        NaN      38.0       59.0     4.0   \n",
       "6  768   14.0       13.0     107.0      781.0    17.0   \n",
       "7  447    8.0        3.0     212.0      488.0    12.0   \n",
       "8  594   11.0        9.0      78.0     1005.0    15.0   \n",
       "9  424    5.0        4.0      33.0      157.0     6.0   \n",
       "\n",
       "                         Field 1                  Field 2  \\\n",
       "0                           Zinc                  Cadmium   \n",
       "1                          Yield          Medicinal Plant   \n",
       "2       Wireless sensor networks       Quality of service   \n",
       "3       Wireless sensor networks       Quality of service   \n",
       "4       Wireless sensor networks        Routing protocols   \n",
       "5  Wheat\\n\\nSENSITIVITY-ANALYSIS      Energy productivity   \n",
       "6               Wheat Production     Sensitivity analysis   \n",
       "7         Weighted Distributions              Hazard Rate   \n",
       "8                      Wedgelets  Microsoft Kinect sensor   \n",
       "9                      Wedgelets        Classifier fusion   \n",
       "\n",
       "                 Field 3                   Field 4  \\\n",
       "0         Soil pollution                Organoclay   \n",
       "1         Essential oils          Replacement corm   \n",
       "2           Sensor nodes           Sensor networks   \n",
       "3     Congestion control              Sensor nodes   \n",
       "4     Quality of service              Sensor nodes   \n",
       "5               Province               Fertilizers   \n",
       "6        BDLRF algorithm                       Ann   \n",
       "7           Lorenz curve              Preservation   \n",
       "8          Normal Vector  Non-linear least squares   \n",
       "9  Combining classifiers  Non-linear least squares   \n",
       "\n",
       "                       Field 5                     Field 6  \\\n",
       "0              Calcareous Soil             Bioavailability   \n",
       "1                  Germination     Azotobacter chroococcum   \n",
       "2             Network lifetime          Congestion control   \n",
       "3             Network lifetime             Sensor networks   \n",
       "4                   Smart Grid  Directional sensor network   \n",
       "5           Renewable energies                        Crop   \n",
       "6        Soft computing models         Automotive industry   \n",
       "7            Tsallis entropies             Maximum Entropy   \n",
       "8           Indoor environment                    Robotics   \n",
       "9  Multiple classifier systems           Decision template   \n",
       "\n",
       "                     Field 7                   Field 8  \\\n",
       "0  Sulfur-oxidizing bacteria                   Manures   \n",
       "1             Crocus sativus             Phytotoxicity   \n",
       "2                 Smart Grid        Internet protocols   \n",
       "3                 Smart Grid         Routing protocols   \n",
       "4                   Fairness                  Coverage   \n",
       "5                    Systems                       NaN   \n",
       "6            Energy modeling               Energy lost   \n",
       "7          Stochastic orders        Mean residual life   \n",
       "8                       Mser                 Platelets   \n",
       "9  Joint audio visual coding  Video subjective testing   \n",
       "\n",
       "                              Field 9                   Field 10  \n",
       "0                      Soil solutions                   Salinity  \n",
       "1                  Pseudomonas putida            Calcareous Soil  \n",
       "2                   Routing protocols                 Clustering  \n",
       "3                  Internet protocols                 Clustering  \n",
       "4  Wireless multimedia sensor network      Optimization problems  \n",
       "5                                 NaN                        NaN  \n",
       "6                    Exhaust Emission  Artificial neural network  \n",
       "7                     Shannon entropy                 Gini Index  \n",
       "8                Markov Random Fields         Image segmentation  \n",
       "9                         Microphones           Bubble Histogram  "
      ]
     },
     "execution_count": 174,
     "metadata": {},
     "output_type": "execute_result"
    }
   ],
   "source": [
    "data = pd.read_excel(\"./DatasetForClustering.xlsx\")\n",
    "data.head(10)"
   ]
  },
  {
   "cell_type": "code",
   "execution_count": 175,
   "metadata": {},
   "outputs": [
    {
     "data": {
      "text/html": [
       "<div>\n",
       "<style scoped>\n",
       "    .dataframe tbody tr th:only-of-type {\n",
       "        vertical-align: middle;\n",
       "    }\n",
       "\n",
       "    .dataframe tbody tr th {\n",
       "        vertical-align: top;\n",
       "    }\n",
       "\n",
       "    .dataframe thead th {\n",
       "        text-align: right;\n",
       "    }\n",
       "</style>\n",
       "<table border=\"1\" class=\"dataframe\">\n",
       "  <thead>\n",
       "    <tr style=\"text-align: right;\">\n",
       "      <th></th>\n",
       "      <th>Field 1</th>\n",
       "      <th>Field 2</th>\n",
       "      <th>Field 3</th>\n",
       "    </tr>\n",
       "  </thead>\n",
       "  <tbody>\n",
       "    <tr>\n",
       "      <th>20</th>\n",
       "      <td>Unconstrained optimization</td>\n",
       "      <td>Global convergence</td>\n",
       "      <td>Conjugate gradient method</td>\n",
       "    </tr>\n",
       "    <tr>\n",
       "      <th>21</th>\n",
       "      <td>Ultrasound</td>\n",
       "      <td>Ultrasonics</td>\n",
       "      <td>Nanoparticles</td>\n",
       "    </tr>\n",
       "    <tr>\n",
       "      <th>22</th>\n",
       "      <td>Ultrasonography</td>\n",
       "      <td>Dog</td>\n",
       "      <td>Heart</td>\n",
       "    </tr>\n",
       "    <tr>\n",
       "      <th>23</th>\n",
       "      <td>Ultrasonic vibration</td>\n",
       "      <td>Electro-chemical discharge machining</td>\n",
       "      <td>Machining</td>\n",
       "    </tr>\n",
       "    <tr>\n",
       "      <th>24</th>\n",
       "      <td>Two-phase flow</td>\n",
       "      <td>Nucleation</td>\n",
       "      <td>Steam turbines</td>\n",
       "    </tr>\n",
       "  </tbody>\n",
       "</table>\n",
       "</div>"
      ],
      "text/plain": [
       "                       Field 1                               Field 2  \\\n",
       "20  Unconstrained optimization                    Global convergence   \n",
       "21                  Ultrasound                           Ultrasonics   \n",
       "22             Ultrasonography                                   Dog   \n",
       "23        Ultrasonic vibration  Electro-chemical discharge machining   \n",
       "24              Two-phase flow                            Nucleation   \n",
       "\n",
       "                      Field 3  \n",
       "20  Conjugate gradient method  \n",
       "21              Nanoparticles  \n",
       "22                      Heart  \n",
       "23                  Machining  \n",
       "24             Steam turbines  "
      ]
     },
     "execution_count": 175,
     "metadata": {},
     "output_type": "execute_result"
    }
   ],
   "source": [
    "data_segmented = pd.DataFrame(data.iloc[20:25, 6:9])\n",
    "data_segmented"
   ]
  },
  {
   "cell_type": "code",
   "execution_count": 176,
   "metadata": {},
   "outputs": [
    {
     "data": {
      "text/html": [
       "<div>\n",
       "<style scoped>\n",
       "    .dataframe tbody tr th:only-of-type {\n",
       "        vertical-align: middle;\n",
       "    }\n",
       "\n",
       "    .dataframe tbody tr th {\n",
       "        vertical-align: top;\n",
       "    }\n",
       "\n",
       "    .dataframe thead th {\n",
       "        text-align: right;\n",
       "    }\n",
       "</style>\n",
       "<table border=\"1\" class=\"dataframe\">\n",
       "  <thead>\n",
       "    <tr style=\"text-align: right;\">\n",
       "      <th></th>\n",
       "      <th>Field 1</th>\n",
       "      <th>Field 2</th>\n",
       "      <th>Field 3</th>\n",
       "    </tr>\n",
       "  </thead>\n",
       "  <tbody>\n",
       "    <tr>\n",
       "      <th>20</th>\n",
       "      <td>Unconstrained optimization</td>\n",
       "      <td>Global convergence</td>\n",
       "      <td>Conjugate gradient method</td>\n",
       "    </tr>\n",
       "    <tr>\n",
       "      <th>21</th>\n",
       "      <td>Ultrasound</td>\n",
       "      <td>Ultrasonics</td>\n",
       "      <td>Nanoparticles</td>\n",
       "    </tr>\n",
       "    <tr>\n",
       "      <th>22</th>\n",
       "      <td>Ultrasonography</td>\n",
       "      <td>Dog</td>\n",
       "      <td>Heart</td>\n",
       "    </tr>\n",
       "    <tr>\n",
       "      <th>23</th>\n",
       "      <td>Ultrasonic vibration</td>\n",
       "      <td>Echography</td>\n",
       "      <td>Machining</td>\n",
       "    </tr>\n",
       "    <tr>\n",
       "      <th>24</th>\n",
       "      <td>Two-phase flow</td>\n",
       "      <td>Nucleation</td>\n",
       "      <td>Steam turbines</td>\n",
       "    </tr>\n",
       "  </tbody>\n",
       "</table>\n",
       "</div>"
      ],
      "text/plain": [
       "                       Field 1             Field 2                    Field 3\n",
       "20  Unconstrained optimization  Global convergence  Conjugate gradient method\n",
       "21                  Ultrasound         Ultrasonics              Nanoparticles\n",
       "22             Ultrasonography                 Dog                      Heart\n",
       "23        Ultrasonic vibration          Echography                  Machining\n",
       "24              Two-phase flow          Nucleation             Steam turbines"
      ]
     },
     "execution_count": 176,
     "metadata": {},
     "output_type": "execute_result"
    }
   ],
   "source": [
    "data_segmented.iloc[3, 1] = \"Echography\"\n",
    "data_segmented"
   ]
  },
  {
   "cell_type": "code",
   "execution_count": null,
   "metadata": {},
   "outputs": [],
   "source": []
  },
  {
   "cell_type": "code",
   "execution_count": 177,
   "metadata": {},
   "outputs": [],
   "source": [
    "def lable_encoder():\n",
    "    code = 0\n",
    "    lemmas = \"\"\n",
    "    \n",
    "    for index, rows in data_segmented.iterrows():\n",
    "        for word in range(len(rows)):\n",
    "            \n",
    "            if not isinstance(rows[word], int):\n",
    "                synset = wordnet.synsets(rows[word])\n",
    "                if synset:\n",
    "                    for syn in synset:\n",
    "                        lemmas += str(syn.lemmas())\n",
    "                    data_segmented.iloc[index - 20, word] = code\n",
    "\n",
    "                    for index2, rows2 in data_segmented.iterrows():\n",
    "                        for word2 in range(len(rows2)):\n",
    "                            if not isinstance(rows2[word2], int):\n",
    "                                if rows2[word2].lower() in lemmas:\n",
    "                                    data_segmented.iloc[index2 - 20, word2] = code\n",
    "                    code += 1\n",
    "                else:\n",
    "                    data_segmented.iloc[index - 20, word] = code\n",
    "                    code += 1\n",
    "                    \n",
    "    return data_segmented"
   ]
  },
  {
   "cell_type": "code",
   "execution_count": 179,
   "metadata": {},
   "outputs": [
    {
     "data": {
      "text/html": [
       "<div>\n",
       "<style scoped>\n",
       "    .dataframe tbody tr th:only-of-type {\n",
       "        vertical-align: middle;\n",
       "    }\n",
       "\n",
       "    .dataframe tbody tr th {\n",
       "        vertical-align: top;\n",
       "    }\n",
       "\n",
       "    .dataframe thead th {\n",
       "        text-align: right;\n",
       "    }\n",
       "</style>\n",
       "<table border=\"1\" class=\"dataframe\">\n",
       "  <thead>\n",
       "    <tr style=\"text-align: right;\">\n",
       "      <th></th>\n",
       "      <th>Field 1</th>\n",
       "      <th>Field 2</th>\n",
       "      <th>Field 3</th>\n",
       "    </tr>\n",
       "  </thead>\n",
       "  <tbody>\n",
       "    <tr>\n",
       "      <th>20</th>\n",
       "      <td>0</td>\n",
       "      <td>1</td>\n",
       "      <td>2</td>\n",
       "    </tr>\n",
       "    <tr>\n",
       "      <th>21</th>\n",
       "      <td>3</td>\n",
       "      <td>4</td>\n",
       "      <td>5</td>\n",
       "    </tr>\n",
       "    <tr>\n",
       "      <th>22</th>\n",
       "      <td>3</td>\n",
       "      <td>6</td>\n",
       "      <td>7</td>\n",
       "    </tr>\n",
       "    <tr>\n",
       "      <th>23</th>\n",
       "      <td>8</td>\n",
       "      <td>3</td>\n",
       "      <td>9</td>\n",
       "    </tr>\n",
       "    <tr>\n",
       "      <th>24</th>\n",
       "      <td>10</td>\n",
       "      <td>11</td>\n",
       "      <td>12</td>\n",
       "    </tr>\n",
       "  </tbody>\n",
       "</table>\n",
       "</div>"
      ],
      "text/plain": [
       "   Field 1 Field 2 Field 3\n",
       "20       0       1       2\n",
       "21       3       4       5\n",
       "22       3       6       7\n",
       "23       8       3       9\n",
       "24      10      11      12"
      ]
     },
     "execution_count": 179,
     "metadata": {},
     "output_type": "execute_result"
    }
   ],
   "source": [
    "data_segmented = lable_encoder()\n",
    "data_segmented"
   ]
  },
  {
   "cell_type": "code",
   "execution_count": 180,
   "metadata": {},
   "outputs": [],
   "source": [
    "nb_classes = 13\n",
    "\n",
    "def indices_to_one_hot(data, nb_classes):\n",
    "    targets = np.array(data).reshape(-1)\n",
    "    return np.eye(nb_classes)[targets]\n",
    "\n",
    "data_segmented = indices_to_one_hot(np.array(data_segmented, int), nb_classes)"
   ]
  },
  {
   "cell_type": "code",
   "execution_count": 181,
   "metadata": {},
   "outputs": [
    {
     "data": {
      "text/plain": [
       "array([[1., 0., 0., 0., 0., 0., 0., 0., 0., 0., 0., 0., 0.],\n",
       "       [0., 1., 0., 0., 0., 0., 0., 0., 0., 0., 0., 0., 0.],\n",
       "       [0., 0., 1., 0., 0., 0., 0., 0., 0., 0., 0., 0., 0.],\n",
       "       [0., 0., 0., 1., 0., 0., 0., 0., 0., 0., 0., 0., 0.],\n",
       "       [0., 0., 0., 0., 1., 0., 0., 0., 0., 0., 0., 0., 0.],\n",
       "       [0., 0., 0., 0., 0., 1., 0., 0., 0., 0., 0., 0., 0.],\n",
       "       [0., 0., 0., 1., 0., 0., 0., 0., 0., 0., 0., 0., 0.],\n",
       "       [0., 0., 0., 0., 0., 0., 1., 0., 0., 0., 0., 0., 0.],\n",
       "       [0., 0., 0., 0., 0., 0., 0., 1., 0., 0., 0., 0., 0.],\n",
       "       [0., 0., 0., 0., 0., 0., 0., 0., 1., 0., 0., 0., 0.],\n",
       "       [0., 0., 0., 1., 0., 0., 0., 0., 0., 0., 0., 0., 0.],\n",
       "       [0., 0., 0., 0., 0., 0., 0., 0., 0., 1., 0., 0., 0.],\n",
       "       [0., 0., 0., 0., 0., 0., 0., 0., 0., 0., 1., 0., 0.],\n",
       "       [0., 0., 0., 0., 0., 0., 0., 0., 0., 0., 0., 1., 0.],\n",
       "       [0., 0., 0., 0., 0., 0., 0., 0., 0., 0., 0., 0., 1.]])"
      ]
     },
     "execution_count": 181,
     "metadata": {},
     "output_type": "execute_result"
    }
   ],
   "source": [
    "data_segmented"
   ]
  },
  {
   "cell_type": "code",
   "execution_count": 273,
   "metadata": {},
   "outputs": [],
   "source": [
    "# encoder = LabelEncoder()\n",
    "# data_segmented.iloc[:, 0] = encoder.fit_transform(data_segmented.iloc[:, 0])\n",
    "# data_segmented.iloc[:, 1] = encoder.fit_transform(data_segmented.iloc[:, 1])\n",
    "# data_segmented.iloc[:, 2] = encoder.fit_transform(data_segmented.iloc[:, 2])\n",
    "\n",
    "# data_segmented"
   ]
  },
  {
   "cell_type": "code",
   "execution_count": 318,
   "metadata": {},
   "outputs": [
    {
     "data": {
      "image/png": "[encoded data removed]",
      "text/plain": [
       "<Figure size 720x504 with 1 Axes>"
      ]
     },
     "metadata": {
      "needs_background": "light"
     },
     "output_type": "display_data"
    }
   ],
   "source": [
    "plt.figure(figsize=(10, 7))\n",
    "dend = shc.dendrogram(shc.linkage(data_segmented, method='ward'))"
   ]
  },
  {
   "cell_type": "code",
   "execution_count": 28,
   "metadata": {},
   "outputs": [
    {
     "data": {
      "text/html": [
       "<div>\n",
       "<style scoped>\n",
       "    .dataframe tbody tr th:only-of-type {\n",
       "        vertical-align: middle;\n",
       "    }\n",
       "\n",
       "    .dataframe tbody tr th {\n",
       "        vertical-align: top;\n",
       "    }\n",
       "\n",
       "    .dataframe thead th {\n",
       "        text-align: right;\n",
       "    }\n",
       "</style>\n",
       "<table border=\"1\" class=\"dataframe\">\n",
       "  <thead>\n",
       "    <tr style=\"text-align: right;\">\n",
       "      <th></th>\n",
       "      <th>1st</th>\n",
       "      <th>2nd</th>\n",
       "      <th>3rd</th>\n",
       "    </tr>\n",
       "  </thead>\n",
       "  <tbody>\n",
       "    <tr>\n",
       "      <th>0</th>\n",
       "      <td>1</td>\n",
       "      <td>5</td>\n",
       "      <td>9</td>\n",
       "    </tr>\n",
       "    <tr>\n",
       "      <th>1</th>\n",
       "      <td>2</td>\n",
       "      <td>6</td>\n",
       "      <td>9</td>\n",
       "    </tr>\n",
       "    <tr>\n",
       "      <th>2</th>\n",
       "      <td>3</td>\n",
       "      <td>7</td>\n",
       "      <td>9</td>\n",
       "    </tr>\n",
       "  </tbody>\n",
       "</table>\n",
       "</div>"
      ],
      "text/plain": [
       "   1st  2nd  3rd\n",
       "0    1    5    9\n",
       "1    2    6    9\n",
       "2    3    7    9"
      ]
     },
     "execution_count": 28,
     "metadata": {},
     "output_type": "execute_result"
    }
   ],
   "source": [
    "df = pd.DataFrame([[1, 5, 9],\n",
    "                   [2, 6, 9],\n",
    "                   [3, 7, 9]], columns=['1st', '2nd', '3rd'])\n",
    "\n",
    "df.head()"
   ]
  },
  {
   "cell_type": "code",
   "execution_count": 29,
   "metadata": {},
   "outputs": [],
   "source": [
    "# df_scaled = normalize(df)\n",
    "# df_scaled"
   ]
  },
  {
   "cell_type": "code",
   "execution_count": 30,
   "metadata": {},
   "outputs": [
    {
     "data": {
      "image/png": "[encoded data removed]",
      "text/plain": [
       "<Figure size 720x504 with 1 Axes>"
      ]
     },
     "metadata": {
      "needs_background": "light"
     },
     "output_type": "display_data"
    }
   ],
   "source": [
    "plt.figure(figsize=(10, 7))  \n",
    "plt.title(\"Dendrograms\")  \n",
    "dend = shc.dendrogram(shc.linkage(df, method='ward'))"
   ]
  },
  {
   "cell_type": "code",
   "execution_count": 31,
   "metadata": {},
   "outputs": [],
   "source": [
    "# data_encoded = LabelEncoder"
   ]
  },
  {
   "cell_type": "code",
   "execution_count": 32,
   "metadata": {},
   "outputs": [],
   "source": [
    "# data_scaled = normalize(data)\n",
    "# data_scaled"
   ]
  },
  {
   "cell_type": "code",
   "execution_count": 35,
   "metadata": {},
   "outputs": [
    {
     "data": {
      "text/html": [
       "<div>\n",
       "<style scoped>\n",
       "    .dataframe tbody tr th:only-of-type {\n",
       "        vertical-align: middle;\n",
       "    }\n",
       "\n",
       "    .dataframe tbody tr th {\n",
       "        vertical-align: top;\n",
       "    }\n",
       "\n",
       "    .dataframe thead th {\n",
       "        text-align: right;\n",
       "    }\n",
       "</style>\n",
       "<table border=\"1\" class=\"dataframe\">\n",
       "  <thead>\n",
       "    <tr style=\"text-align: right;\">\n",
       "      <th></th>\n",
       "      <th>Field 1</th>\n",
       "      <th>Field 2</th>\n",
       "      <th>Field 3</th>\n",
       "    </tr>\n",
       "  </thead>\n",
       "  <tbody>\n",
       "    <tr>\n",
       "      <th>0</th>\n",
       "      <td>3</td>\n",
       "      <td>0</td>\n",
       "      <td>5</td>\n",
       "    </tr>\n",
       "    <tr>\n",
       "      <th>1</th>\n",
       "      <td>2</td>\n",
       "      <td>2</td>\n",
       "      <td>1</td>\n",
       "    </tr>\n",
       "    <tr>\n",
       "      <th>2</th>\n",
       "      <td>1</td>\n",
       "      <td>3</td>\n",
       "      <td>4</td>\n",
       "    </tr>\n",
       "    <tr>\n",
       "      <th>3</th>\n",
       "      <td>1</td>\n",
       "      <td>3</td>\n",
       "      <td>0</td>\n",
       "    </tr>\n",
       "    <tr>\n",
       "      <th>4</th>\n",
       "      <td>1</td>\n",
       "      <td>4</td>\n",
       "      <td>3</td>\n",
       "    </tr>\n",
       "    <tr>\n",
       "      <th>5</th>\n",
       "      <td>0</td>\n",
       "      <td>1</td>\n",
       "      <td>2</td>\n",
       "    </tr>\n",
       "  </tbody>\n",
       "</table>\n",
       "</div>"
      ],
      "text/plain": [
       "   Field 1  Field 2  Field 3\n",
       "0        3        0        5\n",
       "1        2        2        1\n",
       "2        1        3        4\n",
       "3        1        3        0\n",
       "4        1        4        3\n",
       "5        0        1        2"
      ]
     },
     "execution_count": 35,
     "metadata": {},
     "output_type": "execute_result"
    }
   ],
   "source": [
    "data_segmented"
   ]
  },
  {
   "cell_type": "code",
   "execution_count": 41,
   "metadata": {},
   "outputs": [
    {
     "ename": "AttributeError",
     "evalue": "'numpy.ndarray' object has no attribute 'toarray'",
     "output_type": "error",
     "traceback": [
      "\u001b[1;31m---------------------------------------------------------------------------\u001b[0m",
      "\u001b[1;31mAttributeError\u001b[0m                            Traceback (most recent call last)",
      "\u001b[1;32m<ipython-input-41-b427118adbb7>\u001b[0m in \u001b[0;36m<module>\u001b[1;34m\u001b[0m\n\u001b[0;32m      1\u001b[0m \u001b[1;32mfrom\u001b[0m \u001b[0msklearn\u001b[0m\u001b[1;33m.\u001b[0m\u001b[0mpreprocessing\u001b[0m \u001b[1;32mimport\u001b[0m \u001b[0mOneHotEncoder\u001b[0m\u001b[1;33m\u001b[0m\u001b[1;33m\u001b[0m\u001b[0m\n\u001b[0;32m      2\u001b[0m \u001b[0monehotencoder\u001b[0m \u001b[1;33m=\u001b[0m \u001b[0mOneHotEncoder\u001b[0m\u001b[1;33m(\u001b[0m\u001b[1;33m)\u001b[0m\u001b[1;33m\u001b[0m\u001b[1;33m\u001b[0m\u001b[0m\n\u001b[1;32m----> 3\u001b[1;33m \u001b[0mdata_segmented\u001b[0m \u001b[1;33m=\u001b[0m \u001b[0monehotencoder\u001b[0m\u001b[1;33m.\u001b[0m\u001b[0mfit_transform\u001b[0m\u001b[1;33m(\u001b[0m\u001b[0mnp\u001b[0m\u001b[1;33m.\u001b[0m\u001b[0marray\u001b[0m\u001b[1;33m(\u001b[0m\u001b[0mdata_segmented\u001b[0m\u001b[1;33m)\u001b[0m\u001b[1;33m.\u001b[0m\u001b[0mtoarray\u001b[0m\u001b[1;33m(\u001b[0m\u001b[1;33m)\u001b[0m\u001b[1;33m)\u001b[0m\u001b[1;33m\u001b[0m\u001b[1;33m\u001b[0m\u001b[0m\n\u001b[0m\u001b[0;32m      4\u001b[0m \u001b[1;31m# data = np.array(onehotencoder.fit_transform(data_segmented), dtype = np.str)\u001b[0m\u001b[1;33m\u001b[0m\u001b[1;33m\u001b[0m\u001b[1;33m\u001b[0m\u001b[0m\n\u001b[0;32m      5\u001b[0m \u001b[0mdata_segmented\u001b[0m\u001b[1;33m\u001b[0m\u001b[1;33m\u001b[0m\u001b[0m\n",
      "\u001b[1;31mAttributeError\u001b[0m: 'numpy.ndarray' object has no attribute 'toarray'"
     ]
    }
   ],
   "source": [
    "from sklearn.preprocessing import OneHotEncoder\n",
    "onehotencoder = OneHotEncoder()\n",
    "data_segmented = onehotencoder.fit_transform(np.array(data_segmented).sha)\n",
    "# data = np.array(onehotencoder.fit_transform(data_segmented), dtype = np.str) \n",
    "data_segmented"
   ]
  },
  {
   "cell_type": "code",
   "execution_count": null,
   "metadata": {},
   "outputs": [],
   "source": []
  },
  {
   "cell_type": "code",
   "execution_count": 201,
   "metadata": {},
   "outputs": [],
   "source": [
    "import pandas as pd\n",
    "import numpy as np\n",
    "import scipy.cluster.hierarchy as shc\n",
    "from sklearn.preprocessing import normalize, LabelEncoder\n",
    "import matplotlib.pyplot as plt\n",
    "from nltk.corpus import wordnet\n",
    "from sklearn.cluster import AgglomerativeClustering"
   ]
  },
  {
   "cell_type": "code",
   "execution_count": 128,
   "metadata": {},
   "outputs": [
    {
     "data": {
      "text/html": [
       "<div>\n",
       "<style scoped>\n",
       "    .dataframe tbody tr th:only-of-type {\n",
       "        vertical-align: middle;\n",
       "    }\n",
       "\n",
       "    .dataframe tbody tr th {\n",
       "        vertical-align: top;\n",
       "    }\n",
       "\n",
       "    .dataframe thead th {\n",
       "        text-align: right;\n",
       "    }\n",
       "</style>\n",
       "<table border=\"1\" class=\"dataframe\">\n",
       "  <thead>\n",
       "    <tr style=\"text-align: right;\">\n",
       "      <th></th>\n",
       "      <th>ID</th>\n",
       "      <th>ScopH</th>\n",
       "      <th>ScopIntpp</th>\n",
       "      <th>GoSchopp</th>\n",
       "      <th>GoSchcite</th>\n",
       "      <th>GoSchH</th>\n",
       "      <th>Field 1</th>\n",
       "      <th>Field 2</th>\n",
       "      <th>Field 3</th>\n",
       "      <th>Field 4</th>\n",
       "      <th>Field 5</th>\n",
       "      <th>Field 6</th>\n",
       "      <th>Field 7</th>\n",
       "      <th>Field 8</th>\n",
       "      <th>Field 9</th>\n",
       "      <th>Field 10</th>\n",
       "    </tr>\n",
       "  </thead>\n",
       "  <tbody>\n",
       "    <tr>\n",
       "      <th>0</th>\n",
       "      <td>297</td>\n",
       "      <td>15.0</td>\n",
       "      <td>17.0</td>\n",
       "      <td>NaN</td>\n",
       "      <td>NaN</td>\n",
       "      <td>NaN</td>\n",
       "      <td>Zinc</td>\n",
       "      <td>Cadmium</td>\n",
       "      <td>Soil pollution</td>\n",
       "      <td>Organoclay</td>\n",
       "      <td>Calcareous Soil</td>\n",
       "      <td>Bioavailability</td>\n",
       "      <td>Sulfur-oxidizing bacteria</td>\n",
       "      <td>Manures</td>\n",
       "      <td>Soil solutions</td>\n",
       "      <td>Salinity</td>\n",
       "    </tr>\n",
       "    <tr>\n",
       "      <th>1</th>\n",
       "      <td>242</td>\n",
       "      <td>12.0</td>\n",
       "      <td>10.0</td>\n",
       "      <td>NaN</td>\n",
       "      <td>NaN</td>\n",
       "      <td>NaN</td>\n",
       "      <td>Yield</td>\n",
       "      <td>Medicinal Plant</td>\n",
       "      <td>Essential oils</td>\n",
       "      <td>Replacement corm</td>\n",
       "      <td>Germination</td>\n",
       "      <td>Azotobacter chroococcum</td>\n",
       "      <td>Crocus sativus</td>\n",
       "      <td>Phytotoxicity</td>\n",
       "      <td>Pseudomonas putida</td>\n",
       "      <td>Calcareous Soil</td>\n",
       "    </tr>\n",
       "    <tr>\n",
       "      <th>2</th>\n",
       "      <td>693</td>\n",
       "      <td>NaN</td>\n",
       "      <td>34.0</td>\n",
       "      <td>NaN</td>\n",
       "      <td>NaN</td>\n",
       "      <td>NaN</td>\n",
       "      <td>Wireless sensor networks</td>\n",
       "      <td>Quality of service</td>\n",
       "      <td>Sensor nodes</td>\n",
       "      <td>Sensor networks</td>\n",
       "      <td>Network lifetime</td>\n",
       "      <td>Congestion control</td>\n",
       "      <td>Smart Grid</td>\n",
       "      <td>Internet protocols</td>\n",
       "      <td>Routing protocols</td>\n",
       "      <td>Clustering</td>\n",
       "    </tr>\n",
       "    <tr>\n",
       "      <th>3</th>\n",
       "      <td>129</td>\n",
       "      <td>19.0</td>\n",
       "      <td>31.0</td>\n",
       "      <td>259.0</td>\n",
       "      <td>2593.0</td>\n",
       "      <td>25.0</td>\n",
       "      <td>Wireless sensor networks</td>\n",
       "      <td>Quality of service</td>\n",
       "      <td>Congestion control</td>\n",
       "      <td>Sensor nodes</td>\n",
       "      <td>Network lifetime</td>\n",
       "      <td>Sensor networks</td>\n",
       "      <td>Smart Grid</td>\n",
       "      <td>Routing protocols</td>\n",
       "      <td>Internet protocols</td>\n",
       "      <td>Clustering</td>\n",
       "    </tr>\n",
       "    <tr>\n",
       "      <th>4</th>\n",
       "      <td>556</td>\n",
       "      <td>7.0</td>\n",
       "      <td>8.0</td>\n",
       "      <td>42.0</td>\n",
       "      <td>283.0</td>\n",
       "      <td>10.0</td>\n",
       "      <td>Wireless sensor networks</td>\n",
       "      <td>Routing protocols</td>\n",
       "      <td>Quality of service</td>\n",
       "      <td>Sensor nodes</td>\n",
       "      <td>Smart Grid</td>\n",
       "      <td>Directional sensor network</td>\n",
       "      <td>Fairness</td>\n",
       "      <td>Coverage</td>\n",
       "      <td>Wireless multimedia sensor network</td>\n",
       "      <td>Optimization problems</td>\n",
       "    </tr>\n",
       "  </tbody>\n",
       "</table>\n",
       "</div>"
      ],
      "text/plain": [
       "    ID  ScopH  ScopIntpp  GoSchopp  GoSchcite  GoSchH  \\\n",
       "0  297   15.0       17.0       NaN        NaN     NaN   \n",
       "1  242   12.0       10.0       NaN        NaN     NaN   \n",
       "2  693    NaN       34.0       NaN        NaN     NaN   \n",
       "3  129   19.0       31.0     259.0     2593.0    25.0   \n",
       "4  556    7.0        8.0      42.0      283.0    10.0   \n",
       "\n",
       "                    Field 1             Field 2             Field 3  \\\n",
       "0                      Zinc             Cadmium      Soil pollution   \n",
       "1                     Yield     Medicinal Plant      Essential oils   \n",
       "2  Wireless sensor networks  Quality of service        Sensor nodes   \n",
       "3  Wireless sensor networks  Quality of service  Congestion control   \n",
       "4  Wireless sensor networks   Routing protocols  Quality of service   \n",
       "\n",
       "            Field 4           Field 5                     Field 6  \\\n",
       "0        Organoclay   Calcareous Soil             Bioavailability   \n",
       "1  Replacement corm       Germination     Azotobacter chroococcum   \n",
       "2   Sensor networks  Network lifetime          Congestion control   \n",
       "3      Sensor nodes  Network lifetime             Sensor networks   \n",
       "4      Sensor nodes        Smart Grid  Directional sensor network   \n",
       "\n",
       "                     Field 7             Field 8  \\\n",
       "0  Sulfur-oxidizing bacteria             Manures   \n",
       "1             Crocus sativus       Phytotoxicity   \n",
       "2                 Smart Grid  Internet protocols   \n",
       "3                 Smart Grid   Routing protocols   \n",
       "4                   Fairness            Coverage   \n",
       "\n",
       "                              Field 9               Field 10  \n",
       "0                      Soil solutions               Salinity  \n",
       "1                  Pseudomonas putida        Calcareous Soil  \n",
       "2                   Routing protocols             Clustering  \n",
       "3                  Internet protocols             Clustering  \n",
       "4  Wireless multimedia sensor network  Optimization problems  "
      ]
     },
     "execution_count": 128,
     "metadata": {},
     "output_type": "execute_result"
    }
   ],
   "source": [
    "dataset = pd.read_excel(\"./DatasetForClustering.xlsx\")\n",
    "dataset.head()"
   ]
  },
  {
   "cell_type": "code",
   "execution_count": 129,
   "metadata": {},
   "outputs": [
    {
     "data": {
      "text/html": [
       "<div>\n",
       "<style scoped>\n",
       "    .dataframe tbody tr th:only-of-type {\n",
       "        vertical-align: middle;\n",
       "    }\n",
       "\n",
       "    .dataframe tbody tr th {\n",
       "        vertical-align: top;\n",
       "    }\n",
       "\n",
       "    .dataframe thead th {\n",
       "        text-align: right;\n",
       "    }\n",
       "</style>\n",
       "<table border=\"1\" class=\"dataframe\">\n",
       "  <thead>\n",
       "    <tr style=\"text-align: right;\">\n",
       "      <th></th>\n",
       "      <th>ID</th>\n",
       "      <th>Field 1</th>\n",
       "      <th>Field 2</th>\n",
       "      <th>Field 3</th>\n",
       "      <th>Field 4</th>\n",
       "      <th>Field 5</th>\n",
       "      <th>Field 6</th>\n",
       "      <th>Field 7</th>\n",
       "      <th>Field 8</th>\n",
       "      <th>Field 9</th>\n",
       "      <th>Field 10</th>\n",
       "    </tr>\n",
       "  </thead>\n",
       "  <tbody>\n",
       "    <tr>\n",
       "      <th>0</th>\n",
       "      <td>297</td>\n",
       "      <td>Zinc</td>\n",
       "      <td>Cadmium</td>\n",
       "      <td>Soil pollution</td>\n",
       "      <td>Organoclay</td>\n",
       "      <td>Calcareous Soil</td>\n",
       "      <td>Bioavailability</td>\n",
       "      <td>Sulfur-oxidizing bacteria</td>\n",
       "      <td>Manures</td>\n",
       "      <td>Soil solutions</td>\n",
       "      <td>Salinity</td>\n",
       "    </tr>\n",
       "    <tr>\n",
       "      <th>1</th>\n",
       "      <td>242</td>\n",
       "      <td>Yield</td>\n",
       "      <td>Medicinal Plant</td>\n",
       "      <td>Essential oils</td>\n",
       "      <td>Replacement corm</td>\n",
       "      <td>Germination</td>\n",
       "      <td>Azotobacter chroococcum</td>\n",
       "      <td>Crocus sativus</td>\n",
       "      <td>Phytotoxicity</td>\n",
       "      <td>Pseudomonas putida</td>\n",
       "      <td>Calcareous Soil</td>\n",
       "    </tr>\n",
       "    <tr>\n",
       "      <th>2</th>\n",
       "      <td>693</td>\n",
       "      <td>Wireless sensor networks</td>\n",
       "      <td>Quality of service</td>\n",
       "      <td>Sensor nodes</td>\n",
       "      <td>Sensor networks</td>\n",
       "      <td>Network lifetime</td>\n",
       "      <td>Congestion control</td>\n",
       "      <td>Smart Grid</td>\n",
       "      <td>Internet protocols</td>\n",
       "      <td>Routing protocols</td>\n",
       "      <td>Clustering</td>\n",
       "    </tr>\n",
       "    <tr>\n",
       "      <th>3</th>\n",
       "      <td>129</td>\n",
       "      <td>Wireless sensor networks</td>\n",
       "      <td>Quality of service</td>\n",
       "      <td>Congestion control</td>\n",
       "      <td>Sensor nodes</td>\n",
       "      <td>Network lifetime</td>\n",
       "      <td>Sensor networks</td>\n",
       "      <td>Smart Grid</td>\n",
       "      <td>Routing protocols</td>\n",
       "      <td>Internet protocols</td>\n",
       "      <td>Clustering</td>\n",
       "    </tr>\n",
       "    <tr>\n",
       "      <th>4</th>\n",
       "      <td>556</td>\n",
       "      <td>Wireless sensor networks</td>\n",
       "      <td>Routing protocols</td>\n",
       "      <td>Quality of service</td>\n",
       "      <td>Sensor nodes</td>\n",
       "      <td>Smart Grid</td>\n",
       "      <td>Directional sensor network</td>\n",
       "      <td>Fairness</td>\n",
       "      <td>Coverage</td>\n",
       "      <td>Wireless multimedia sensor network</td>\n",
       "      <td>Optimization problems</td>\n",
       "    </tr>\n",
       "  </tbody>\n",
       "</table>\n",
       "</div>"
      ],
      "text/plain": [
       "    ID                   Field 1             Field 2             Field 3  \\\n",
       "0  297                      Zinc             Cadmium      Soil pollution   \n",
       "1  242                     Yield     Medicinal Plant      Essential oils   \n",
       "2  693  Wireless sensor networks  Quality of service        Sensor nodes   \n",
       "3  129  Wireless sensor networks  Quality of service  Congestion control   \n",
       "4  556  Wireless sensor networks   Routing protocols  Quality of service   \n",
       "\n",
       "            Field 4           Field 5                     Field 6  \\\n",
       "0        Organoclay   Calcareous Soil             Bioavailability   \n",
       "1  Replacement corm       Germination     Azotobacter chroococcum   \n",
       "2   Sensor networks  Network lifetime          Congestion control   \n",
       "3      Sensor nodes  Network lifetime             Sensor networks   \n",
       "4      Sensor nodes        Smart Grid  Directional sensor network   \n",
       "\n",
       "                     Field 7             Field 8  \\\n",
       "0  Sulfur-oxidizing bacteria             Manures   \n",
       "1             Crocus sativus       Phytotoxicity   \n",
       "2                 Smart Grid  Internet protocols   \n",
       "3                 Smart Grid   Routing protocols   \n",
       "4                   Fairness            Coverage   \n",
       "\n",
       "                              Field 9               Field 10  \n",
       "0                      Soil solutions               Salinity  \n",
       "1                  Pseudomonas putida        Calcareous Soil  \n",
       "2                   Routing protocols             Clustering  \n",
       "3                  Internet protocols             Clustering  \n",
       "4  Wireless multimedia sensor network  Optimization problems  "
      ]
     },
     "execution_count": 129,
     "metadata": {},
     "output_type": "execute_result"
    }
   ],
   "source": [
    "dataset = dataset.drop(['ScopH', 'ScopIntpp', 'GoSchopp', 'GoSchcite', 'GoSchH'], axis=1)\n",
    "dataset.head()"
   ]
  },
  {
   "cell_type": "code",
   "execution_count": 130,
   "metadata": {},
   "outputs": [
    {
     "name": "stdout",
     "output_type": "stream",
     "text": [
      "<class 'pandas.core.frame.DataFrame'>\n",
      "RangeIndex: 638 entries, 0 to 637\n",
      "Data columns (total 11 columns):\n",
      " #   Column    Non-Null Count  Dtype \n",
      "---  ------    --------------  ----- \n",
      " 0   ID        638 non-null    int64 \n",
      " 1   Field 1   638 non-null    object\n",
      " 2   Field 2   638 non-null    object\n",
      " 3   Field 3   638 non-null    object\n",
      " 4   Field 4   636 non-null    object\n",
      " 5   Field 5   630 non-null    object\n",
      " 6   Field 6   627 non-null    object\n",
      " 7   Field 7   626 non-null    object\n",
      " 8   Field 8   621 non-null    object\n",
      " 9   Field 9   620 non-null    object\n",
      " 10  Field 10  614 non-null    object\n",
      "dtypes: int64(1), object(10)\n",
      "memory usage: 55.0+ KB\n"
     ]
    }
   ],
   "source": [
    "dataset.info()"
   ]
  },
  {
   "cell_type": "code",
   "execution_count": 131,
   "metadata": {},
   "outputs": [
    {
     "name": "stdout",
     "output_type": "stream",
     "text": [
      "<class 'pandas.core.frame.DataFrame'>\n",
      "RangeIndex: 638 entries, 0 to 637\n",
      "Data columns (total 11 columns):\n",
      " #   Column    Non-Null Count  Dtype \n",
      "---  ------    --------------  ----- \n",
      " 0   ID        638 non-null    int64 \n",
      " 1   Field 1   638 non-null    object\n",
      " 2   Field 2   638 non-null    object\n",
      " 3   Field 3   638 non-null    object\n",
      " 4   Field 4   638 non-null    object\n",
      " 5   Field 5   638 non-null    object\n",
      " 6   Field 6   638 non-null    object\n",
      " 7   Field 7   638 non-null    object\n",
      " 8   Field 8   638 non-null    object\n",
      " 9   Field 9   638 non-null    object\n",
      " 10  Field 10  638 non-null    object\n",
      "dtypes: int64(1), object(10)\n",
      "memory usage: 55.0+ KB\n"
     ]
    }
   ],
   "source": [
    "dataset = dataset.fillna(' ')\n",
    "dataset.info()"
   ]
  },
  {
   "cell_type": "code",
   "execution_count": 132,
   "metadata": {},
   "outputs": [],
   "source": [
    "def connect_features():\n",
    "    df = pd.DataFrame()\n",
    "    df['ID'] = dataset['ID']\n",
    "    df['Fields'] = dataset[['Field 1', 'Field 2', 'Field 3', 'Field 4', 'Field 5', 'Field 6', 'Field 7', 'Field 8', 'Field 9', 'Field 10']].agg('-'.join, axis=1)\n",
    "    return df"
   ]
  },
  {
   "cell_type": "code",
   "execution_count": 134,
   "metadata": {},
   "outputs": [
    {
     "data": {
      "text/html": [
       "<div>\n",
       "<style scoped>\n",
       "    .dataframe tbody tr th:only-of-type {\n",
       "        vertical-align: middle;\n",
       "    }\n",
       "\n",
       "    .dataframe tbody tr th {\n",
       "        vertical-align: top;\n",
       "    }\n",
       "\n",
       "    .dataframe thead th {\n",
       "        text-align: right;\n",
       "    }\n",
       "</style>\n",
       "<table border=\"1\" class=\"dataframe\">\n",
       "  <thead>\n",
       "    <tr style=\"text-align: right;\">\n",
       "      <th></th>\n",
       "      <th>ID</th>\n",
       "      <th>Fields</th>\n",
       "    </tr>\n",
       "  </thead>\n",
       "  <tbody>\n",
       "    <tr>\n",
       "      <th>0</th>\n",
       "      <td>297</td>\n",
       "      <td>Zinc-Cadmium-Soil pollution-Organoclay-Calcare...</td>\n",
       "    </tr>\n",
       "    <tr>\n",
       "      <th>1</th>\n",
       "      <td>242</td>\n",
       "      <td>Yield-Medicinal Plant-Essential oils-Replaceme...</td>\n",
       "    </tr>\n",
       "    <tr>\n",
       "      <th>2</th>\n",
       "      <td>693</td>\n",
       "      <td>Wireless sensor networks-Quality of service-Se...</td>\n",
       "    </tr>\n",
       "    <tr>\n",
       "      <th>3</th>\n",
       "      <td>129</td>\n",
       "      <td>Wireless sensor networks-Quality of service-Co...</td>\n",
       "    </tr>\n",
       "    <tr>\n",
       "      <th>4</th>\n",
       "      <td>556</td>\n",
       "      <td>Wireless sensor networks-Routing protocols-Qua...</td>\n",
       "    </tr>\n",
       "  </tbody>\n",
       "</table>\n",
       "</div>"
      ],
      "text/plain": [
       "    ID                                             Fields\n",
       "0  297  Zinc-Cadmium-Soil pollution-Organoclay-Calcare...\n",
       "1  242  Yield-Medicinal Plant-Essential oils-Replaceme...\n",
       "2  693  Wireless sensor networks-Quality of service-Se...\n",
       "3  129  Wireless sensor networks-Quality of service-Co...\n",
       "4  556  Wireless sensor networks-Routing protocols-Qua..."
      ]
     },
     "execution_count": 134,
     "metadata": {},
     "output_type": "execute_result"
    }
   ],
   "source": [
    "dataset = connect_features()\n",
    "dataset.head()"
   ]
  },
  {
   "cell_type": "code",
   "execution_count": 168,
   "metadata": {},
   "outputs": [
    {
     "name": "stdout",
     "output_type": "stream",
     "text": [
      "(0, ID                                                      297\n",
      "Fields    Zinc-Cadmium-Soil pollution-Organoclay-Calcare...\n",
      "Name: 0, dtype: object)\n",
      "(1, ID                                                      242\n",
      "Fields    Yield-Medicinal Plant-Essential oils-Replaceme...\n",
      "Name: 1, dtype: object)\n",
      "(2, ID                                                      693\n",
      "Fields    Wireless sensor networks-Quality of service-Se...\n",
      "Name: 2, dtype: object)\n",
      "(3, ID                                                      129\n",
      "Fields    Wireless sensor networks-Quality of service-Co...\n",
      "Name: 3, dtype: object)\n",
      "(4, ID                                                      556\n",
      "Fields    Wireless sensor networks-Routing protocols-Qua...\n",
      "Name: 4, dtype: object)\n"
     ]
    }
   ],
   "source": [
    "for i in dataset.iloc[:5,].iterrows():\n",
    "    print(i)"
   ]
  },
  {
   "cell_type": "code",
   "execution_count": 222,
   "metadata": {},
   "outputs": [
    {
     "data": {
      "text/plain": [
       "array([[0.        , 0.        , 0.        , ..., 0.        , 0.        ,\n",
       "        0.        ],\n",
       "       [0.        , 0.        , 0.        , ..., 0.        , 0.        ,\n",
       "        0.        ],\n",
       "       [0.        , 0.        , 0.        , ..., 0.        , 0.        ,\n",
       "        0.        ],\n",
       "       ...,\n",
       "       [0.68453741, 0.71408574, 0.66912191, ..., 1.        , 0.83309422,\n",
       "        0.83355889],\n",
       "       [0.84662399, 0.86481099, 0.71993989, ..., 0.83309422, 1.        ,\n",
       "        0.83549071],\n",
       "       [0.64814572, 0.68310445, 0.76247785, ..., 0.83355889, 0.83549071,\n",
       "        1.        ]])"
      ]
     },
     "execution_count": 222,
     "metadata": {},
     "output_type": "execute_result"
    }
   ],
   "source": [
    "# similarity_matrix = np.zeros((dataset.shape[0], dataset.shape[0]))\n",
    "# for person1 in dataset.iloc[333:,].iterrows():\n",
    "#     for person2 in dataset.iterrows():\n",
    "#         similarity_matrix[person1[0], person2[0]] = spacy_semantic_similarity(person1[1]['Fields'], person2[1]['Fields'])\n",
    "        \n",
    "# similarity_matrix"
   ]
  },
  {
   "cell_type": "code",
   "execution_count": 240,
   "metadata": {},
   "outputs": [
    {
     "name": "stdout",
     "output_type": "stream",
     "text": [
      "[6 6 0 0 5 2 1 0 1 0 4 1 0 5 4 2 1 2 1 5 0 2 2 2 2 4 2 2 6 6 2 0 1 0 1 0 1\n",
      " 6 0 2 0 6 2 3 1 1 4 1 1 0 1 1 1 2 0 2 0 6 0 9 2 0 1 0 1 0 5 0 6 2 0 1 2 3\n",
      " 4 8 8 4 3 1 6 1 1 2 2 8 2 2 6 1 1 1 1 2 2 5 1 1 1 1 0 1 5 2 6 2 3 0 6 6 2\n",
      " 6 6 2 0 0 2 6 0 1 1 5 0 1 1 6 0 0 1 2 2 1 4 6 6 6 1 6 2 0 0 2 1 6 1 1 2 2\n",
      " 0 2 8 0 1 1 2 1 0 6 3 6 1 5 0 6 6 2 1 4 0 1 2 1 6 0 7 0 0 4 0 4 2 1 2 6 0\n",
      " 2 2 2 2 6 6 2 0 2 4 2 6 7 6 2 9 2 2 2 1 7 2 1 0 6 6 1 6 2 2 2 6 2 1 1 0 6\n",
      " 6 6 2 0 6 2 1 0 0 0 0 5 2 0 2 2 2 1 1 2 2 1 1 0 2 2 0 6 0 0 0 4 2 2 0 6 1\n",
      " 4 1 1 1 6 2 2 2 2 2 1 2 0 7 1 1 8 2 8 2 2 6 2 2 6 2 3 3 6 6 6 6 2 0 2 2 2\n",
      " 6 2 0 1 0 2 2 6 1 5 6 2 2 2 4 2 2 0 2 0 2 0 0 0 7 3 6 6 0 6 5 1 6 2 4 0 1\n",
      " 1 1 0 1 1 1 2 2 1 1 1 2 1 0 1 4 4 1 2 0 0 1 4 0 2 1 0 6 1 4 2 6 1 2 2 0 4\n",
      " 4 2 6 6 0 0 0 2 2 2 2 2 1 0 6 1 2 1 1 5 0 6 2 6 2 1 2 1 8 2 1 0 2 1 0 1 0\n",
      " 0 0 0 1 2 0 2 2 6 4 1 6 6 3 0 2 1 1 1 2 2 8 5 0 0 0 1 0 1 1 2 0 1 1 8 6 6\n",
      " 4 7 2 1 1 0 8 4 2 6 0 6 1 1 0 2 1 1 1 5 2 4 1 4 0 1 1 2 6 0 2 2 2 2 0 0 2\n",
      " 2 2 2 1 6 6 6 6 6 6 2 1 6 6 2 2 0 1 0 1 0 1 2 0 2 0 1 1 0 0 1 2 2 0 4 4 1\n",
      " 2 2 6 3 6 1 2 4 0 2 6 1 8 4 4 1 1 1 1 1 4 2 2 0 6 2 2 1 0 2 0 1 5 2 6 2 6\n",
      " 4 2 6 2 2 1 6 2 2 4 2 6 6 4 4 2 1 6 2 1 1 1 2 3 7 2 1 4 1 2 2 6 2 2 1 2 2\n",
      " 0 6 1 2 1 0 6 3 1 2 1 0 0 2 2 1 2 1 1 1 2 6 0 2 6 6 5 2 4 2 1 6 1 8 0 0 0\n",
      " 2 6 0 0 0 2 0 2 1]\n"
     ]
    },
    {
     "data": {
      "image/png": "[encoded data removed]",
      "text/plain": [
       "<Figure size 1440x1080 with 1 Axes>"
      ]
     },
     "metadata": {
      "needs_background": "light"
     },
     "output_type": "display_data"
    }
   ],
   "source": [
    "plt.figure(figsize=(20, 15))  \n",
    "plt.title(\"Dendrograms\")  \n",
    "model = AgglomerativeClustering(n_clusters=10, linkage='complete').fit(similarity_matrix)\n",
    "print(model.labels_)\n",
    "dend = shc.dendrogram(shc.linkage(similarity_matrix, method='complete'))"
   ]
  },
  {
   "cell_type": "code",
   "execution_count": null,
   "metadata": {},
   "outputs": [],
   "source": []
  },
  {
   "cell_type": "code",
   "execution_count": 162,
   "metadata": {},
   "outputs": [
    {
     "name": "stdout",
     "output_type": "stream",
     "text": [
      "333\n"
     ]
    }
   ],
   "source": [
    "count = 0\n",
    "for row in similarity_matrix2:\n",
    "    if 0 not in row:\n",
    "        count += 1\n",
    "print(count)"
   ]
  },
  {
   "cell_type": "code",
   "execution_count": 160,
   "metadata": {},
   "outputs": [
    {
     "data": {
      "text/plain": [
       "(638, 638)"
      ]
     },
     "execution_count": 160,
     "metadata": {},
     "output_type": "execute_result"
    }
   ],
   "source": [
    "similarity_matrix.shape"
   ]
  },
  {
   "cell_type": "code",
   "execution_count": null,
   "metadata": {},
   "outputs": [],
   "source": []
  },
  {
   "cell_type": "code",
   "execution_count": null,
   "metadata": {},
   "outputs": [],
   "source": [
    "# !pip install spacy"
   ]
  },
  {
   "cell_type": "code",
   "execution_count": 3,
   "metadata": {},
   "outputs": [],
   "source": [
    "# !python -m spacy download en_core_web_md"
   ]
  },
  {
   "cell_type": "code",
   "execution_count": 4,
   "metadata": {},
   "outputs": [],
   "source": [
    "# !python -m spacy link en_core_web_md en"
   ]
  },
  {
   "cell_type": "code",
   "execution_count": 146,
   "metadata": {},
   "outputs": [],
   "source": [
    "import spacy\n",
    "nlp = spacy.load('en_core_web_md')"
   ]
  },
  {
   "cell_type": "code",
   "execution_count": 149,
   "metadata": {},
   "outputs": [],
   "source": [
    "def spacy_semantic_similarity(sentence1, sentence2):\n",
    "    sentence1 = nlp(sentence1)\n",
    "    sentence2 = nlp(sentence2)\n",
    "    \n",
    "    return sentence1.similarity(sentence2)"
   ]
  },
  {
   "cell_type": "code",
   "execution_count": 150,
   "metadata": {},
   "outputs": [
    {
     "data": {
      "text/plain": [
       "0.8016854705531046"
      ]
     },
     "execution_count": 150,
     "metadata": {},
     "output_type": "execute_result"
    }
   ],
   "source": [
    "spacy_semantic_similarity('dog', 'cat')"
   ]
  },
  {
   "cell_type": "code",
   "execution_count": 151,
   "metadata": {},
   "outputs": [
    {
     "data": {
      "text/plain": [
       "0.7085842403739737"
      ]
     },
     "execution_count": 151,
     "metadata": {},
     "output_type": "execute_result"
    }
   ],
   "source": [
    "spacy_semantic_similarity('pen', 'pencil')"
   ]
  },
  {
   "cell_type": "code",
   "execution_count": 152,
   "metadata": {},
   "outputs": [
    {
     "data": {
      "text/plain": [
       "0.8442632419880388"
      ]
     },
     "execution_count": 152,
     "metadata": {},
     "output_type": "execute_result"
    }
   ],
   "source": [
    "spacy_semantic_similarity('dog-pen', 'cat-pencil')"
   ]
  },
  {
   "cell_type": "code",
   "execution_count": 153,
   "metadata": {},
   "outputs": [
    {
     "data": {
      "text/plain": [
       "0.8442632438866646"
      ]
     },
     "execution_count": 153,
     "metadata": {},
     "output_type": "execute_result"
    }
   ],
   "source": [
    "spacy_semantic_similarity('dog-pen', 'pencil-cat')"
   ]
  },
  {
   "cell_type": "code",
   "execution_count": 234,
   "metadata": {},
   "outputs": [
    {
     "data": {
      "text/plain": [
       "array([[1.        , 0.8636068 , 0.62884218, ..., 0.68453741, 0.84662399,\n",
       "        0.64814572],\n",
       "       [0.8636068 , 1.        , 0.60285631, ..., 0.71408574, 0.86481099,\n",
       "        0.68310445],\n",
       "       [0.62884218, 0.60285631, 1.        , ..., 0.66912191, 0.71993989,\n",
       "        0.76247785],\n",
       "       ...,\n",
       "       [0.68453741, 0.71408574, 0.66912191, ..., 1.        , 0.83309422,\n",
       "        0.83355889],\n",
       "       [0.84662399, 0.86481099, 0.71993989, ..., 0.83309422, 1.        ,\n",
       "        0.83549071],\n",
       "       [0.64814572, 0.68310445, 0.76247785, ..., 0.83355889, 0.83549071,\n",
       "        1.        ]])"
      ]
     },
     "execution_count": 234,
     "metadata": {},
     "output_type": "execute_result"
    }
   ],
   "source": [
    "similarity_matrix"
   ]
  },
  {
   "cell_type": "code",
   "execution_count": 235,
   "metadata": {},
   "outputs": [],
   "source": [
    "# import pickle\n",
    "\n",
    "# with open('similarity_matrix', 'wb') as fp:\n",
    "#     pickle.dump(similarity_matrix, fp)\n",
    "\n"
   ]
  },
  {
   "cell_type": "code",
   "execution_count": 236,
   "metadata": {},
   "outputs": [
    {
     "data": {
      "text/plain": [
       "array([[1.        , 0.8636068 , 0.62884218, ..., 0.68453741, 0.84662399,\n",
       "        0.64814572],\n",
       "       [0.8636068 , 1.        , 0.60285631, ..., 0.71408574, 0.86481099,\n",
       "        0.68310445],\n",
       "       [0.62884218, 0.60285631, 1.        , ..., 0.66912191, 0.71993989,\n",
       "        0.76247785],\n",
       "       ...,\n",
       "       [0.68453741, 0.71408574, 0.66912191, ..., 1.        , 0.83309422,\n",
       "        0.83355889],\n",
       "       [0.84662399, 0.86481099, 0.71993989, ..., 0.83309422, 1.        ,\n",
       "        0.83549071],\n",
       "       [0.64814572, 0.68310445, 0.76247785, ..., 0.83355889, 0.83549071,\n",
       "        1.        ]])"
      ]
     },
     "execution_count": 236,
     "metadata": {},
     "output_type": "execute_result"
    }
   ],
   "source": [
    "# with open ('similarity_matrix', 'rb') as fp:\n",
    "#     itemlist = pickle.load(fp)\n",
    "# itemlist"
   ]
  },
  {
   "cell_type": "code",
   "execution_count": null,
   "metadata": {},
   "outputs": [],
   "source": []
  },
  {
   "cell_type": "code",
   "execution_count": 213,
   "metadata": {},
   "outputs": [
    {
     "data": {
      "text/plain": [
       "['Zinc-Cadmium-Soil pollution-Organoclay-Calcareous Soil-Bioavailability-Sulfur-oxidizing bacteria-Manures-Soil solutions-Salinity',\n",
       " 'Yield-Medicinal Plant-Essential oils-Replacement corm-Germination-Azotobacter chroococcum-Crocus sativus-Phytotoxicity-Pseudomonas putida-Calcareous Soil',\n",
       " 'Wireless sensor networks-Quality of service-Sensor nodes-Sensor networks-Network lifetime-Congestion control-Smart Grid-Internet protocols-Routing protocols-Clustering',\n",
       " 'Wireless sensor networks-Quality of service-Congestion control-Sensor nodes-Network lifetime-Sensor networks-Smart Grid-Routing protocols-Internet protocols-Clustering',\n",
       " 'Wireless sensor networks-Routing protocols-Quality of service-Sensor nodes-Smart Grid-Directional sensor network-Fairness-Coverage-Wireless multimedia sensor network-Optimization problems']"
      ]
     },
     "execution_count": 213,
     "metadata": {},
     "output_type": "execute_result"
    }
   ],
   "source": [
    "dataset['Fields'].iloc[:5,].tolist()"
   ]
  },
  {
   "cell_type": "code",
   "execution_count": 215,
   "metadata": {},
   "outputs": [
    {
     "data": {
      "text/plain": [
       "0.9808482878758215"
      ]
     },
     "execution_count": 215,
     "metadata": {},
     "output_type": "execute_result"
    }
   ],
   "source": [
    "spacy_semantic_similarity('Wireless sensor networks-Quality of service-Sensor nodes-Sensor networks-Network lifetime-Congestion control-Smart Grid-Internet protocols-Routing protocols-Clustering', 'Wireless sensor networks-Routing protocols-Quality of service-Sensor nodes-Smart Grid-Directional sensor network-Fairness-Coverage-Wireless multimedia sensor network-Optimization problems'  )"
   ]
  },
  {
   "cell_type": "code",
   "execution_count": null,
   "metadata": {},
   "outputs": [],
   "source": []
  },
  {
   "cell_type": "code",
   "execution_count": null,
   "metadata": {},
   "outputs": [],
   "source": []
  }
 ],
 "metadata": {
  "kernelspec": {
   "display_name": "Python 3",
   "language": "python",
   "name": "python3"
  },
  "language_info": {
   "codemirror_mode": {
    "name": "ipython",
    "version": 3
   },
   "file_extension": ".py",
   "mimetype": "text/x-python",
   "name": "python",
   "nbconvert_exporter": "python",
   "pygments_lexer": "ipython3",
   "version": "3.8.6"
  }
 },
 "nbformat": 4,
 "nbformat_minor": 4
}
