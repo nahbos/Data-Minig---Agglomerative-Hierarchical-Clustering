{
 "cells": [
  {
   "cell_type": "markdown",
   "metadata": {},
   "source": [
    "### Copyright (C) 2020 Sobhan Moradiyan Daghigh - All Rights Reserved\n",
    "##### 12/5/2020"
   ]
  },
  {
   "cell_type": "code",
   "execution_count": 1,
   "metadata": {},
   "outputs": [],
   "source": [
    "# !pip install spacy"
   ]
  },
  {
   "cell_type": "code",
   "execution_count": 2,
   "metadata": {},
   "outputs": [],
   "source": [
    "# !python -m spacy download en_core_web_md"
   ]
  },
  {
   "cell_type": "code",
   "execution_count": 3,
   "metadata": {},
   "outputs": [],
   "source": [
    "# !python -m spacy link en_core_web_md en"
   ]
  },
  {
   "cell_type": "code",
   "execution_count": 4,
   "metadata": {},
   "outputs": [],
   "source": [
    "import pandas as pd\n",
    "import numpy as np\n",
    "import scipy.cluster.hierarchy as shc\n",
    "import matplotlib.pyplot as plt\n",
    "from sklearn.cluster import AgglomerativeClustering\n",
    "import spacy\n",
    "nlp = spacy.load('en_core_web_md')"
   ]
  },
  {
   "cell_type": "code",
   "execution_count": 5,
   "metadata": {},
   "outputs": [
    {
     "data": {
      "text/html": [
       "<div>\n",
       "<style scoped>\n",
       "    .dataframe tbody tr th:only-of-type {\n",
       "        vertical-align: middle;\n",
       "    }\n",
       "\n",
       "    .dataframe tbody tr th {\n",
       "        vertical-align: top;\n",
       "    }\n",
       "\n",
       "    .dataframe thead th {\n",
       "        text-align: right;\n",
       "    }\n",
       "</style>\n",
       "<table border=\"1\" class=\"dataframe\">\n",
       "  <thead>\n",
       "    <tr style=\"text-align: right;\">\n",
       "      <th></th>\n",
       "      <th>ID</th>\n",
       "      <th>ScopH</th>\n",
       "      <th>ScopIntpp</th>\n",
       "      <th>GoSchopp</th>\n",
       "      <th>GoSchcite</th>\n",
       "      <th>GoSchH</th>\n",
       "      <th>Field 1</th>\n",
       "      <th>Field 2</th>\n",
       "      <th>Field 3</th>\n",
       "      <th>Field 4</th>\n",
       "      <th>Field 5</th>\n",
       "      <th>Field 6</th>\n",
       "      <th>Field 7</th>\n",
       "      <th>Field 8</th>\n",
       "      <th>Field 9</th>\n",
       "      <th>Field 10</th>\n",
       "    </tr>\n",
       "  </thead>\n",
       "  <tbody>\n",
       "    <tr>\n",
       "      <th>0</th>\n",
       "      <td>297</td>\n",
       "      <td>15.0</td>\n",
       "      <td>17.0</td>\n",
       "      <td>NaN</td>\n",
       "      <td>NaN</td>\n",
       "      <td>NaN</td>\n",
       "      <td>Zinc</td>\n",
       "      <td>Cadmium</td>\n",
       "      <td>Soil pollution</td>\n",
       "      <td>Organoclay</td>\n",
       "      <td>Calcareous Soil</td>\n",
       "      <td>Bioavailability</td>\n",
       "      <td>Sulfur-oxidizing bacteria</td>\n",
       "      <td>Manures</td>\n",
       "      <td>Soil solutions</td>\n",
       "      <td>Salinity</td>\n",
       "    </tr>\n",
       "    <tr>\n",
       "      <th>1</th>\n",
       "      <td>242</td>\n",
       "      <td>12.0</td>\n",
       "      <td>10.0</td>\n",
       "      <td>NaN</td>\n",
       "      <td>NaN</td>\n",
       "      <td>NaN</td>\n",
       "      <td>Yield</td>\n",
       "      <td>Medicinal Plant</td>\n",
       "      <td>Essential oils</td>\n",
       "      <td>Replacement corm</td>\n",
       "      <td>Germination</td>\n",
       "      <td>Azotobacter chroococcum</td>\n",
       "      <td>Crocus sativus</td>\n",
       "      <td>Phytotoxicity</td>\n",
       "      <td>Pseudomonas putida</td>\n",
       "      <td>Calcareous Soil</td>\n",
       "    </tr>\n",
       "    <tr>\n",
       "      <th>2</th>\n",
       "      <td>693</td>\n",
       "      <td>NaN</td>\n",
       "      <td>34.0</td>\n",
       "      <td>NaN</td>\n",
       "      <td>NaN</td>\n",
       "      <td>NaN</td>\n",
       "      <td>Wireless sensor networks</td>\n",
       "      <td>Quality of service</td>\n",
       "      <td>Sensor nodes</td>\n",
       "      <td>Sensor networks</td>\n",
       "      <td>Network lifetime</td>\n",
       "      <td>Congestion control</td>\n",
       "      <td>Smart Grid</td>\n",
       "      <td>Internet protocols</td>\n",
       "      <td>Routing protocols</td>\n",
       "      <td>Clustering</td>\n",
       "    </tr>\n",
       "    <tr>\n",
       "      <th>3</th>\n",
       "      <td>129</td>\n",
       "      <td>19.0</td>\n",
       "      <td>31.0</td>\n",
       "      <td>259.0</td>\n",
       "      <td>2593.0</td>\n",
       "      <td>25.0</td>\n",
       "      <td>Wireless sensor networks</td>\n",
       "      <td>Quality of service</td>\n",
       "      <td>Congestion control</td>\n",
       "      <td>Sensor nodes</td>\n",
       "      <td>Network lifetime</td>\n",
       "      <td>Sensor networks</td>\n",
       "      <td>Smart Grid</td>\n",
       "      <td>Routing protocols</td>\n",
       "      <td>Internet protocols</td>\n",
       "      <td>Clustering</td>\n",
       "    </tr>\n",
       "    <tr>\n",
       "      <th>4</th>\n",
       "      <td>556</td>\n",
       "      <td>7.0</td>\n",
       "      <td>8.0</td>\n",
       "      <td>42.0</td>\n",
       "      <td>283.0</td>\n",
       "      <td>10.0</td>\n",
       "      <td>Wireless sensor networks</td>\n",
       "      <td>Routing protocols</td>\n",
       "      <td>Quality of service</td>\n",
       "      <td>Sensor nodes</td>\n",
       "      <td>Smart Grid</td>\n",
       "      <td>Directional sensor network</td>\n",
       "      <td>Fairness</td>\n",
       "      <td>Coverage</td>\n",
       "      <td>Wireless multimedia sensor network</td>\n",
       "      <td>Optimization problems</td>\n",
       "    </tr>\n",
       "  </tbody>\n",
       "</table>\n",
       "</div>"
      ],
      "text/plain": [
       "    ID  ScopH  ScopIntpp  GoSchopp  GoSchcite  GoSchH  \\\n",
       "0  297   15.0       17.0       NaN        NaN     NaN   \n",
       "1  242   12.0       10.0       NaN        NaN     NaN   \n",
       "2  693    NaN       34.0       NaN        NaN     NaN   \n",
       "3  129   19.0       31.0     259.0     2593.0    25.0   \n",
       "4  556    7.0        8.0      42.0      283.0    10.0   \n",
       "\n",
       "                    Field 1             Field 2             Field 3  \\\n",
       "0                      Zinc             Cadmium      Soil pollution   \n",
       "1                     Yield     Medicinal Plant      Essential oils   \n",
       "2  Wireless sensor networks  Quality of service        Sensor nodes   \n",
       "3  Wireless sensor networks  Quality of service  Congestion control   \n",
       "4  Wireless sensor networks   Routing protocols  Quality of service   \n",
       "\n",
       "            Field 4           Field 5                     Field 6  \\\n",
       "0        Organoclay   Calcareous Soil             Bioavailability   \n",
       "1  Replacement corm       Germination     Azotobacter chroococcum   \n",
       "2   Sensor networks  Network lifetime          Congestion control   \n",
       "3      Sensor nodes  Network lifetime             Sensor networks   \n",
       "4      Sensor nodes        Smart Grid  Directional sensor network   \n",
       "\n",
       "                     Field 7             Field 8  \\\n",
       "0  Sulfur-oxidizing bacteria             Manures   \n",
       "1             Crocus sativus       Phytotoxicity   \n",
       "2                 Smart Grid  Internet protocols   \n",
       "3                 Smart Grid   Routing protocols   \n",
       "4                   Fairness            Coverage   \n",
       "\n",
       "                              Field 9               Field 10  \n",
       "0                      Soil solutions               Salinity  \n",
       "1                  Pseudomonas putida        Calcareous Soil  \n",
       "2                   Routing protocols             Clustering  \n",
       "3                  Internet protocols             Clustering  \n",
       "4  Wireless multimedia sensor network  Optimization problems  "
      ]
     },
     "execution_count": 5,
     "metadata": {},
     "output_type": "execute_result"
    }
   ],
   "source": [
    "dataset = pd.read_excel(\"./DatasetForClustering.xlsx\")\n",
    "dataset.head()"
   ]
  },
  {
   "cell_type": "code",
   "execution_count": 6,
   "metadata": {},
   "outputs": [
    {
     "data": {
      "text/html": [
       "<div>\n",
       "<style scoped>\n",
       "    .dataframe tbody tr th:only-of-type {\n",
       "        vertical-align: middle;\n",
       "    }\n",
       "\n",
       "    .dataframe tbody tr th {\n",
       "        vertical-align: top;\n",
       "    }\n",
       "\n",
       "    .dataframe thead th {\n",
       "        text-align: right;\n",
       "    }\n",
       "</style>\n",
       "<table border=\"1\" class=\"dataframe\">\n",
       "  <thead>\n",
       "    <tr style=\"text-align: right;\">\n",
       "      <th></th>\n",
       "      <th>ID</th>\n",
       "      <th>Field 1</th>\n",
       "      <th>Field 2</th>\n",
       "      <th>Field 3</th>\n",
       "      <th>Field 4</th>\n",
       "      <th>Field 5</th>\n",
       "      <th>Field 6</th>\n",
       "      <th>Field 7</th>\n",
       "      <th>Field 8</th>\n",
       "      <th>Field 9</th>\n",
       "      <th>Field 10</th>\n",
       "    </tr>\n",
       "  </thead>\n",
       "  <tbody>\n",
       "    <tr>\n",
       "      <th>0</th>\n",
       "      <td>297</td>\n",
       "      <td>Zinc</td>\n",
       "      <td>Cadmium</td>\n",
       "      <td>Soil pollution</td>\n",
       "      <td>Organoclay</td>\n",
       "      <td>Calcareous Soil</td>\n",
       "      <td>Bioavailability</td>\n",
       "      <td>Sulfur-oxidizing bacteria</td>\n",
       "      <td>Manures</td>\n",
       "      <td>Soil solutions</td>\n",
       "      <td>Salinity</td>\n",
       "    </tr>\n",
       "    <tr>\n",
       "      <th>1</th>\n",
       "      <td>242</td>\n",
       "      <td>Yield</td>\n",
       "      <td>Medicinal Plant</td>\n",
       "      <td>Essential oils</td>\n",
       "      <td>Replacement corm</td>\n",
       "      <td>Germination</td>\n",
       "      <td>Azotobacter chroococcum</td>\n",
       "      <td>Crocus sativus</td>\n",
       "      <td>Phytotoxicity</td>\n",
       "      <td>Pseudomonas putida</td>\n",
       "      <td>Calcareous Soil</td>\n",
       "    </tr>\n",
       "    <tr>\n",
       "      <th>2</th>\n",
       "      <td>693</td>\n",
       "      <td>Wireless sensor networks</td>\n",
       "      <td>Quality of service</td>\n",
       "      <td>Sensor nodes</td>\n",
       "      <td>Sensor networks</td>\n",
       "      <td>Network lifetime</td>\n",
       "      <td>Congestion control</td>\n",
       "      <td>Smart Grid</td>\n",
       "      <td>Internet protocols</td>\n",
       "      <td>Routing protocols</td>\n",
       "      <td>Clustering</td>\n",
       "    </tr>\n",
       "    <tr>\n",
       "      <th>3</th>\n",
       "      <td>129</td>\n",
       "      <td>Wireless sensor networks</td>\n",
       "      <td>Quality of service</td>\n",
       "      <td>Congestion control</td>\n",
       "      <td>Sensor nodes</td>\n",
       "      <td>Network lifetime</td>\n",
       "      <td>Sensor networks</td>\n",
       "      <td>Smart Grid</td>\n",
       "      <td>Routing protocols</td>\n",
       "      <td>Internet protocols</td>\n",
       "      <td>Clustering</td>\n",
       "    </tr>\n",
       "    <tr>\n",
       "      <th>4</th>\n",
       "      <td>556</td>\n",
       "      <td>Wireless sensor networks</td>\n",
       "      <td>Routing protocols</td>\n",
       "      <td>Quality of service</td>\n",
       "      <td>Sensor nodes</td>\n",
       "      <td>Smart Grid</td>\n",
       "      <td>Directional sensor network</td>\n",
       "      <td>Fairness</td>\n",
       "      <td>Coverage</td>\n",
       "      <td>Wireless multimedia sensor network</td>\n",
       "      <td>Optimization problems</td>\n",
       "    </tr>\n",
       "  </tbody>\n",
       "</table>\n",
       "</div>"
      ],
      "text/plain": [
       "    ID                   Field 1             Field 2             Field 3  \\\n",
       "0  297                      Zinc             Cadmium      Soil pollution   \n",
       "1  242                     Yield     Medicinal Plant      Essential oils   \n",
       "2  693  Wireless sensor networks  Quality of service        Sensor nodes   \n",
       "3  129  Wireless sensor networks  Quality of service  Congestion control   \n",
       "4  556  Wireless sensor networks   Routing protocols  Quality of service   \n",
       "\n",
       "            Field 4           Field 5                     Field 6  \\\n",
       "0        Organoclay   Calcareous Soil             Bioavailability   \n",
       "1  Replacement corm       Germination     Azotobacter chroococcum   \n",
       "2   Sensor networks  Network lifetime          Congestion control   \n",
       "3      Sensor nodes  Network lifetime             Sensor networks   \n",
       "4      Sensor nodes        Smart Grid  Directional sensor network   \n",
       "\n",
       "                     Field 7             Field 8  \\\n",
       "0  Sulfur-oxidizing bacteria             Manures   \n",
       "1             Crocus sativus       Phytotoxicity   \n",
       "2                 Smart Grid  Internet protocols   \n",
       "3                 Smart Grid   Routing protocols   \n",
       "4                   Fairness            Coverage   \n",
       "\n",
       "                              Field 9               Field 10  \n",
       "0                      Soil solutions               Salinity  \n",
       "1                  Pseudomonas putida        Calcareous Soil  \n",
       "2                   Routing protocols             Clustering  \n",
       "3                  Internet protocols             Clustering  \n",
       "4  Wireless multimedia sensor network  Optimization problems  "
      ]
     },
     "execution_count": 6,
     "metadata": {},
     "output_type": "execute_result"
    }
   ],
   "source": [
    "dataset = dataset.drop(['ScopH', 'ScopIntpp', 'GoSchopp', 'GoSchcite', 'GoSchH'], axis=1)\n",
    "dataset.head()"
   ]
  },
  {
   "cell_type": "code",
   "execution_count": 7,
   "metadata": {},
   "outputs": [
    {
     "name": "stdout",
     "output_type": "stream",
     "text": [
      "<class 'pandas.core.frame.DataFrame'>\n",
      "RangeIndex: 638 entries, 0 to 637\n",
      "Data columns (total 11 columns):\n",
      " #   Column    Non-Null Count  Dtype \n",
      "---  ------    --------------  ----- \n",
      " 0   ID        638 non-null    int64 \n",
      " 1   Field 1   638 non-null    object\n",
      " 2   Field 2   638 non-null    object\n",
      " 3   Field 3   638 non-null    object\n",
      " 4   Field 4   636 non-null    object\n",
      " 5   Field 5   630 non-null    object\n",
      " 6   Field 6   627 non-null    object\n",
      " 7   Field 7   626 non-null    object\n",
      " 8   Field 8   621 non-null    object\n",
      " 9   Field 9   620 non-null    object\n",
      " 10  Field 10  614 non-null    object\n",
      "dtypes: int64(1), object(10)\n",
      "memory usage: 55.0+ KB\n"
     ]
    }
   ],
   "source": [
    "dataset.info()"
   ]
  },
  {
   "cell_type": "code",
   "execution_count": 8,
   "metadata": {},
   "outputs": [
    {
     "name": "stdout",
     "output_type": "stream",
     "text": [
      "<class 'pandas.core.frame.DataFrame'>\n",
      "RangeIndex: 638 entries, 0 to 637\n",
      "Data columns (total 11 columns):\n",
      " #   Column    Non-Null Count  Dtype \n",
      "---  ------    --------------  ----- \n",
      " 0   ID        638 non-null    int64 \n",
      " 1   Field 1   638 non-null    object\n",
      " 2   Field 2   638 non-null    object\n",
      " 3   Field 3   638 non-null    object\n",
      " 4   Field 4   638 non-null    object\n",
      " 5   Field 5   638 non-null    object\n",
      " 6   Field 6   638 non-null    object\n",
      " 7   Field 7   638 non-null    object\n",
      " 8   Field 8   638 non-null    object\n",
      " 9   Field 9   638 non-null    object\n",
      " 10  Field 10  638 non-null    object\n",
      "dtypes: int64(1), object(10)\n",
      "memory usage: 55.0+ KB\n"
     ]
    }
   ],
   "source": [
    "dataset = dataset.fillna(' ')\n",
    "dataset.info()"
   ]
  },
  {
   "cell_type": "code",
   "execution_count": 9,
   "metadata": {},
   "outputs": [],
   "source": [
    "def connect_features():\n",
    "    df = pd.DataFrame()\n",
    "    df['ID'] = dataset['ID']\n",
    "    df['Fields'] = dataset[['Field 1', 'Field 2', 'Field 3', 'Field 4', 'Field 5', 'Field 6', 'Field 7', 'Field 8', 'Field 9', 'Field 10']].agg('-'.join, axis=1)\n",
    "    return df"
   ]
  },
  {
   "cell_type": "code",
   "execution_count": 10,
   "metadata": {},
   "outputs": [
    {
     "data": {
      "text/html": [
       "<div>\n",
       "<style scoped>\n",
       "    .dataframe tbody tr th:only-of-type {\n",
       "        vertical-align: middle;\n",
       "    }\n",
       "\n",
       "    .dataframe tbody tr th {\n",
       "        vertical-align: top;\n",
       "    }\n",
       "\n",
       "    .dataframe thead th {\n",
       "        text-align: right;\n",
       "    }\n",
       "</style>\n",
       "<table border=\"1\" class=\"dataframe\">\n",
       "  <thead>\n",
       "    <tr style=\"text-align: right;\">\n",
       "      <th></th>\n",
       "      <th>ID</th>\n",
       "      <th>Fields</th>\n",
       "    </tr>\n",
       "  </thead>\n",
       "  <tbody>\n",
       "    <tr>\n",
       "      <th>0</th>\n",
       "      <td>297</td>\n",
       "      <td>Zinc-Cadmium-Soil pollution-Organoclay-Calcare...</td>\n",
       "    </tr>\n",
       "    <tr>\n",
       "      <th>1</th>\n",
       "      <td>242</td>\n",
       "      <td>Yield-Medicinal Plant-Essential oils-Replaceme...</td>\n",
       "    </tr>\n",
       "    <tr>\n",
       "      <th>2</th>\n",
       "      <td>693</td>\n",
       "      <td>Wireless sensor networks-Quality of service-Se...</td>\n",
       "    </tr>\n",
       "    <tr>\n",
       "      <th>3</th>\n",
       "      <td>129</td>\n",
       "      <td>Wireless sensor networks-Quality of service-Co...</td>\n",
       "    </tr>\n",
       "    <tr>\n",
       "      <th>4</th>\n",
       "      <td>556</td>\n",
       "      <td>Wireless sensor networks-Routing protocols-Qua...</td>\n",
       "    </tr>\n",
       "  </tbody>\n",
       "</table>\n",
       "</div>"
      ],
      "text/plain": [
       "    ID                                             Fields\n",
       "0  297  Zinc-Cadmium-Soil pollution-Organoclay-Calcare...\n",
       "1  242  Yield-Medicinal Plant-Essential oils-Replaceme...\n",
       "2  693  Wireless sensor networks-Quality of service-Se...\n",
       "3  129  Wireless sensor networks-Quality of service-Co...\n",
       "4  556  Wireless sensor networks-Routing protocols-Qua..."
      ]
     },
     "execution_count": 10,
     "metadata": {},
     "output_type": "execute_result"
    }
   ],
   "source": [
    "dataset = connect_features()\n",
    "dataset.head()"
   ]
  },
  {
   "cell_type": "code",
   "execution_count": null,
   "metadata": {},
   "outputs": [],
   "source": []
  },
  {
   "cell_type": "code",
   "execution_count": 11,
   "metadata": {},
   "outputs": [],
   "source": [
    "def spacy_semantic_similarity(sentence1, sentence2):\n",
    "    sentence1 = nlp(sentence1)\n",
    "    sentence2 = nlp(sentence2)\n",
    "    \n",
    "    return sentence1.similarity(sentence2)"
   ]
  },
  {
   "cell_type": "code",
   "execution_count": 12,
   "metadata": {},
   "outputs": [
    {
     "data": {
      "text/plain": [
       "0.8016854705531046"
      ]
     },
     "execution_count": 12,
     "metadata": {},
     "output_type": "execute_result"
    }
   ],
   "source": [
    "spacy_semantic_similarity('dog', 'cat')"
   ]
  },
  {
   "cell_type": "code",
   "execution_count": 13,
   "metadata": {},
   "outputs": [
    {
     "data": {
      "text/plain": [
       "0.7085842403739737"
      ]
     },
     "execution_count": 13,
     "metadata": {},
     "output_type": "execute_result"
    }
   ],
   "source": [
    "spacy_semantic_similarity('pen', 'pencil')"
   ]
  },
  {
   "cell_type": "code",
   "execution_count": 14,
   "metadata": {},
   "outputs": [
    {
     "data": {
      "text/plain": [
       "0.8442632419880388"
      ]
     },
     "execution_count": 14,
     "metadata": {},
     "output_type": "execute_result"
    }
   ],
   "source": [
    "spacy_semantic_similarity('dog-pen', 'cat-pencil')"
   ]
  },
  {
   "cell_type": "code",
   "execution_count": 15,
   "metadata": {},
   "outputs": [
    {
     "data": {
      "text/plain": [
       "0.8442632438866646"
      ]
     },
     "execution_count": 15,
     "metadata": {},
     "output_type": "execute_result"
    }
   ],
   "source": [
    "spacy_semantic_similarity('dog-pen', 'pencil-cat')"
   ]
  },
  {
   "cell_type": "code",
   "execution_count": null,
   "metadata": {},
   "outputs": [],
   "source": []
  },
  {
   "cell_type": "code",
   "execution_count": 19,
   "metadata": {},
   "outputs": [
    {
     "data": {
      "text/plain": [
       "array([[1.        , 0.8636068 , 0.62884218, ..., 0.68453741, 0.84662399,\n",
       "        0.64814572],\n",
       "       [0.8636068 , 1.        , 0.60285631, ..., 0.71408574, 0.86481099,\n",
       "        0.68310445],\n",
       "       [0.62884218, 0.60285631, 1.        , ..., 0.66912191, 0.71993989,\n",
       "        0.76247785],\n",
       "       ...,\n",
       "       [0.68453741, 0.71408574, 0.66912191, ..., 1.        , 0.83309422,\n",
       "        0.83355889],\n",
       "       [0.84662399, 0.86481099, 0.71993989, ..., 0.83309422, 1.        ,\n",
       "        0.83549071],\n",
       "       [0.64814572, 0.68310445, 0.76247785, ..., 0.83355889, 0.83549071,\n",
       "        1.        ]])"
      ]
     },
     "execution_count": 19,
     "metadata": {},
     "output_type": "execute_result"
    }
   ],
   "source": [
    "import pickle\n",
    "\n",
    "# with open('similarity_matrix', 'wb') as fp:\n",
    "#     pickle.dump(similarity_matrix, fp)\n",
    "with open ('./similarity_matrix', 'rb') as fp:\n",
    "    similarity_matrix = pickle.load(fp)\n",
    "similarity_matrix"
   ]
  },
  {
   "cell_type": "code",
   "execution_count": 20,
   "metadata": {},
   "outputs": [],
   "source": [
    "similarity_matrix = np.zeros((dataset.shape[0], dataset.shape[0]))\n",
    "for person1 in dataset.iterrows():\n",
    "    for person2 in dataset.iterrows():\n",
    "        similarity_matrix[person1[0], person2[0]] = spacy_semantic_similarity(person1[1]['Fields'], person2[1]['Fields'])"
   ]
  },
  {
   "cell_type": "code",
   "execution_count": 21,
   "metadata": {},
   "outputs": [
    {
     "data": {
      "text/plain": [
       "array([[1.        , 0.8636068 , 0.62884218, ..., 0.68453741, 0.84662399,\n",
       "        0.64814572],\n",
       "       [0.8636068 , 1.        , 0.60285631, ..., 0.71408574, 0.86481099,\n",
       "        0.68310445],\n",
       "       [0.62884218, 0.60285631, 1.        , ..., 0.66912191, 0.71993989,\n",
       "        0.76247785],\n",
       "       ...,\n",
       "       [0.68453741, 0.71408574, 0.66912191, ..., 1.        , 0.83309422,\n",
       "        0.83355889],\n",
       "       [0.84662399, 0.86481099, 0.71993989, ..., 0.83309422, 1.        ,\n",
       "        0.83549071],\n",
       "       [0.64814572, 0.68310445, 0.76247785, ..., 0.83355889, 0.83549071,\n",
       "        1.        ]])"
      ]
     },
     "execution_count": 21,
     "metadata": {},
     "output_type": "execute_result"
    }
   ],
   "source": [
    "similarity_matrix"
   ]
  },
  {
   "cell_type": "code",
   "execution_count": 22,
   "metadata": {},
   "outputs": [
    {
     "data": {
      "image/png": "[encoded data removed]",
      "text/plain": [
       "<Figure size 1440x1080 with 1 Axes>"
      ]
     },
     "metadata": {
      "needs_background": "light"
     },
     "output_type": "display_data"
    }
   ],
   "source": [
    "plt.figure(figsize=(20, 15))  \n",
    "plt.title(\"Dendrograms\")  \n",
    "dend = shc.dendrogram(shc.linkage(similarity_matrix, method='complete'))"
   ]
  },
  {
   "cell_type": "code",
   "execution_count": 23,
   "metadata": {},
   "outputs": [
    {
     "data": {
      "image/png": "[encoded data removed]",
      "text/plain": [
       "<Figure size 1440x1080 with 1 Axes>"
      ]
     },
     "metadata": {
      "needs_background": "light"
     },
     "output_type": "display_data"
    }
   ],
   "source": [
    "plt.figure(figsize=(20, 15))  \n",
    "plt.title(\"Dendrograms\")  \n",
    "dend = shc.dendrogram(shc.linkage(similarity_matrix, method='ward'))"
   ]
  },
  {
   "cell_type": "code",
   "execution_count": 31,
   "metadata": {},
   "outputs": [
    {
     "data": {
      "text/html": [
       "<div>\n",
       "<style scoped>\n",
       "    .dataframe tbody tr th:only-of-type {\n",
       "        vertical-align: middle;\n",
       "    }\n",
       "\n",
       "    .dataframe tbody tr th {\n",
       "        vertical-align: top;\n",
       "    }\n",
       "\n",
       "    .dataframe thead th {\n",
       "        text-align: right;\n",
       "    }\n",
       "</style>\n",
       "<table border=\"1\" class=\"dataframe\">\n",
       "  <thead>\n",
       "    <tr style=\"text-align: right;\">\n",
       "      <th></th>\n",
       "      <th>ID</th>\n",
       "      <th>Fields</th>\n",
       "      <th>cluster</th>\n",
       "    </tr>\n",
       "  </thead>\n",
       "  <tbody>\n",
       "    <tr>\n",
       "      <th>0</th>\n",
       "      <td>297</td>\n",
       "      <td>Zinc-Cadmium-Soil pollution-Organoclay-Calcare...</td>\n",
       "      <td>6</td>\n",
       "    </tr>\n",
       "    <tr>\n",
       "      <th>1</th>\n",
       "      <td>242</td>\n",
       "      <td>Yield-Medicinal Plant-Essential oils-Replaceme...</td>\n",
       "      <td>6</td>\n",
       "    </tr>\n",
       "    <tr>\n",
       "      <th>2</th>\n",
       "      <td>693</td>\n",
       "      <td>Wireless sensor networks-Quality of service-Se...</td>\n",
       "      <td>2</td>\n",
       "    </tr>\n",
       "    <tr>\n",
       "      <th>3</th>\n",
       "      <td>129</td>\n",
       "      <td>Wireless sensor networks-Quality of service-Co...</td>\n",
       "      <td>2</td>\n",
       "    </tr>\n",
       "  </tbody>\n",
       "</table>\n",
       "</div>"
      ],
      "text/plain": [
       "    ID                                             Fields  cluster\n",
       "0  297  Zinc-Cadmium-Soil pollution-Organoclay-Calcare...        6\n",
       "1  242  Yield-Medicinal Plant-Essential oils-Replaceme...        6\n",
       "2  693  Wireless sensor networks-Quality of service-Se...        2\n",
       "3  129  Wireless sensor networks-Quality of service-Co...        2"
      ]
     },
     "execution_count": 31,
     "metadata": {},
     "output_type": "execute_result"
    }
   ],
   "source": [
    "model = AgglomerativeClustering(n_clusters=8, linkage='complete').fit(similarity_matrix)\n",
    "dataset['cluster'] = model.labels_\n",
    "dataset.head(4)"
   ]
  },
  {
   "cell_type": "code",
   "execution_count": null,
   "metadata": {},
   "outputs": [],
   "source": []
  }
 ],
 "metadata": {
  "kernelspec": {
   "display_name": "Python 3",
   "language": "python",
   "name": "python3"
  },
  "language_info": {
   "codemirror_mode": {
    "name": "ipython",
    "version": 3
   },
   "file_extension": ".py",
   "mimetype": "text/x-python",
   "name": "python",
   "nbconvert_exporter": "python",
   "pygments_lexer": "ipython3",
   "version": "3.8.6"
  }
 },
 "nbformat": 4,
 "nbformat_minor": 4
}
